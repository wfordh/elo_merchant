{
 "cells": [
  {
   "cell_type": "markdown",
   "metadata": {},
   "source": [
    "# Making Features and a Validation Set"
   ]
  },
  {
   "cell_type": "code",
   "execution_count": 1,
   "metadata": {},
   "outputs": [],
   "source": [
    "import matplotlib.pyplot as plt\n",
    "import numpy as np\n",
    "import pandas as pd\n",
    "import seaborn as sns\n",
    "\n",
    "from pathlib import Path\n",
    "\n",
    "%matplotlib inline"
   ]
  },
  {
   "cell_type": "code",
   "execution_count": 2,
   "metadata": {},
   "outputs": [],
   "source": [
    "from elo_helpers import *"
   ]
  },
  {
   "cell_type": "code",
   "execution_count": 3,
   "metadata": {},
   "outputs": [],
   "source": [
    "train = pd.read_csv('data/train.csv', dtype=train_dtypes)\n",
    "test = pd.read_csv('data/test.csv', dtype=test_dtypes).fillna('2017-03')"
   ]
  },
  {
   "cell_type": "code",
   "execution_count": 4,
   "metadata": {},
   "outputs": [],
   "source": [
    "merch = pd.read_csv('data/merchants.csv', dtype=merch_dtypes)\n",
    "hist_trans = pd.read_csv('data/historical_transactions.csv', dtype=trans_dtypes)\n",
    "new_trans = pd.read_csv('data/new_merchant_transactions.csv', dtype=trans_dtypes)"
   ]
  },
  {
   "cell_type": "code",
   "execution_count": 5,
   "metadata": {},
   "outputs": [],
   "source": [
    "for cols in ['category_1', 'category_4', 'most_recent_purchases_range', 'most_recent_sales_range']:\n",
    "    merch[cols] = merch[cols].astype('category')"
   ]
  },
  {
   "cell_type": "markdown",
   "metadata": {},
   "source": [
    "### Validation Set\n",
    "\n",
    "Looks like we can just make it randomly. Need to do more feature engineering before this is possible. Need to drop `card_id` and `target` from X set for validation. Using `test_size=0.35` and `random_state=11`."
   ]
  },
  {
   "cell_type": "markdown",
   "metadata": {},
   "source": [
    "### Feature Engineering"
   ]
  },
  {
   "cell_type": "code",
   "execution_count": 6,
   "metadata": {},
   "outputs": [
    {
     "data": {
      "text/html": [
       "<div>\n",
       "<style scoped>\n",
       "    .dataframe tbody tr th:only-of-type {\n",
       "        vertical-align: middle;\n",
       "    }\n",
       "\n",
       "    .dataframe tbody tr th {\n",
       "        vertical-align: top;\n",
       "    }\n",
       "\n",
       "    .dataframe thead th {\n",
       "        text-align: right;\n",
       "    }\n",
       "</style>\n",
       "<table border=\"1\" class=\"dataframe\">\n",
       "  <thead>\n",
       "    <tr style=\"text-align: right;\">\n",
       "      <th></th>\n",
       "      <th>first_active_month</th>\n",
       "      <th>card_id</th>\n",
       "      <th>feature_1</th>\n",
       "      <th>feature_2</th>\n",
       "      <th>feature_3</th>\n",
       "      <th>target</th>\n",
       "    </tr>\n",
       "  </thead>\n",
       "  <tbody>\n",
       "    <tr>\n",
       "      <th>0</th>\n",
       "      <td>2017-06</td>\n",
       "      <td>C_ID_92a2005557</td>\n",
       "      <td>5</td>\n",
       "      <td>2</td>\n",
       "      <td>1</td>\n",
       "      <td>-0.820283</td>\n",
       "    </tr>\n",
       "    <tr>\n",
       "      <th>1</th>\n",
       "      <td>2017-01</td>\n",
       "      <td>C_ID_3d0044924f</td>\n",
       "      <td>4</td>\n",
       "      <td>1</td>\n",
       "      <td>0</td>\n",
       "      <td>0.392913</td>\n",
       "    </tr>\n",
       "    <tr>\n",
       "      <th>2</th>\n",
       "      <td>2016-08</td>\n",
       "      <td>C_ID_d639edf6cd</td>\n",
       "      <td>2</td>\n",
       "      <td>2</td>\n",
       "      <td>0</td>\n",
       "      <td>0.688056</td>\n",
       "    </tr>\n",
       "    <tr>\n",
       "      <th>3</th>\n",
       "      <td>2017-09</td>\n",
       "      <td>C_ID_186d6a6901</td>\n",
       "      <td>4</td>\n",
       "      <td>3</td>\n",
       "      <td>0</td>\n",
       "      <td>0.142495</td>\n",
       "    </tr>\n",
       "    <tr>\n",
       "      <th>4</th>\n",
       "      <td>2017-11</td>\n",
       "      <td>C_ID_cdbd2c0db2</td>\n",
       "      <td>1</td>\n",
       "      <td>3</td>\n",
       "      <td>0</td>\n",
       "      <td>-0.159749</td>\n",
       "    </tr>\n",
       "  </tbody>\n",
       "</table>\n",
       "</div>"
      ],
      "text/plain": [
       "  first_active_month          card_id  feature_1  feature_2  feature_3  \\\n",
       "0            2017-06  C_ID_92a2005557          5          2          1   \n",
       "1            2017-01  C_ID_3d0044924f          4          1          0   \n",
       "2            2016-08  C_ID_d639edf6cd          2          2          0   \n",
       "3            2017-09  C_ID_186d6a6901          4          3          0   \n",
       "4            2017-11  C_ID_cdbd2c0db2          1          3          0   \n",
       "\n",
       "     target  \n",
       "0 -0.820283  \n",
       "1  0.392913  \n",
       "2  0.688056  \n",
       "3  0.142495  \n",
       "4 -0.159749  "
      ]
     },
     "execution_count": 6,
     "metadata": {},
     "output_type": "execute_result"
    }
   ],
   "source": [
    "train.head()"
   ]
  },
  {
   "cell_type": "code",
   "execution_count": 6,
   "metadata": {},
   "outputs": [
    {
     "data": {
      "text/html": [
       "<div>\n",
       "<style scoped>\n",
       "    .dataframe tbody tr th:only-of-type {\n",
       "        vertical-align: middle;\n",
       "    }\n",
       "\n",
       "    .dataframe tbody tr th {\n",
       "        vertical-align: top;\n",
       "    }\n",
       "\n",
       "    .dataframe thead th {\n",
       "        text-align: right;\n",
       "    }\n",
       "</style>\n",
       "<table border=\"1\" class=\"dataframe\">\n",
       "  <thead>\n",
       "    <tr style=\"text-align: right;\">\n",
       "      <th></th>\n",
       "      <th>first_active_month</th>\n",
       "      <th>card_id</th>\n",
       "      <th>feature_1</th>\n",
       "      <th>feature_2</th>\n",
       "      <th>feature_3</th>\n",
       "      <th>target</th>\n",
       "      <th>feature_1_mean_enc</th>\n",
       "      <th>feature_2_mean_enc</th>\n",
       "      <th>feature_3_mean_enc</th>\n",
       "    </tr>\n",
       "  </thead>\n",
       "  <tbody>\n",
       "    <tr>\n",
       "      <th>0</th>\n",
       "      <td>2017-06</td>\n",
       "      <td>C_ID_92a2005557</td>\n",
       "      <td>5</td>\n",
       "      <td>2</td>\n",
       "      <td>1</td>\n",
       "      <td>-0.820283</td>\n",
       "      <td>-0.501972</td>\n",
       "      <td>-0.342233</td>\n",
       "      <td>-0.429176</td>\n",
       "    </tr>\n",
       "    <tr>\n",
       "      <th>1</th>\n",
       "      <td>2017-01</td>\n",
       "      <td>C_ID_3d0044924f</td>\n",
       "      <td>4</td>\n",
       "      <td>1</td>\n",
       "      <td>0</td>\n",
       "      <td>0.392913</td>\n",
       "      <td>-0.377079</td>\n",
       "      <td>-0.389225</td>\n",
       "      <td>-0.349962</td>\n",
       "    </tr>\n",
       "    <tr>\n",
       "      <th>2</th>\n",
       "      <td>2016-08</td>\n",
       "      <td>C_ID_d639edf6cd</td>\n",
       "      <td>2</td>\n",
       "      <td>2</td>\n",
       "      <td>0</td>\n",
       "      <td>0.688056</td>\n",
       "      <td>-0.349808</td>\n",
       "      <td>-0.342233</td>\n",
       "      <td>-0.349962</td>\n",
       "    </tr>\n",
       "    <tr>\n",
       "      <th>3</th>\n",
       "      <td>2017-09</td>\n",
       "      <td>C_ID_186d6a6901</td>\n",
       "      <td>4</td>\n",
       "      <td>3</td>\n",
       "      <td>0</td>\n",
       "      <td>0.142495</td>\n",
       "      <td>-0.377079</td>\n",
       "      <td>-0.512248</td>\n",
       "      <td>-0.349962</td>\n",
       "    </tr>\n",
       "    <tr>\n",
       "      <th>4</th>\n",
       "      <td>2017-11</td>\n",
       "      <td>C_ID_cdbd2c0db2</td>\n",
       "      <td>1</td>\n",
       "      <td>3</td>\n",
       "      <td>0</td>\n",
       "      <td>-0.159749</td>\n",
       "      <td>-0.305659</td>\n",
       "      <td>-0.512248</td>\n",
       "      <td>-0.349962</td>\n",
       "    </tr>\n",
       "  </tbody>\n",
       "</table>\n",
       "</div>"
      ],
      "text/plain": [
       "  first_active_month          card_id  feature_1  feature_2  feature_3  \\\n",
       "0            2017-06  C_ID_92a2005557          5          2          1   \n",
       "1            2017-01  C_ID_3d0044924f          4          1          0   \n",
       "2            2016-08  C_ID_d639edf6cd          2          2          0   \n",
       "3            2017-09  C_ID_186d6a6901          4          3          0   \n",
       "4            2017-11  C_ID_cdbd2c0db2          1          3          0   \n",
       "\n",
       "     target  feature_1_mean_enc  feature_2_mean_enc  feature_3_mean_enc  \n",
       "0 -0.820283           -0.501972           -0.342233           -0.429176  \n",
       "1  0.392913           -0.377079           -0.389225           -0.349962  \n",
       "2  0.688056           -0.349808           -0.342233           -0.349962  \n",
       "3  0.142495           -0.377079           -0.512248           -0.349962  \n",
       "4 -0.159749           -0.305659           -0.512248           -0.349962  "
      ]
     },
     "execution_count": 6,
     "metadata": {},
     "output_type": "execute_result"
    }
   ],
   "source": [
    "reg_target_encoding(train, 'feature_1', 'target', 'mean')\n",
    "reg_target_encoding(train, 'feature_2', 'target', 'mean')\n",
    "reg_target_encoding(train, 'feature_3', 'target', 'mean')\n",
    "\n",
    "train.head()"
   ]
  },
  {
   "cell_type": "code",
   "execution_count": 7,
   "metadata": {},
   "outputs": [],
   "source": [
    "train_v2 = pd.get_dummies(train, columns=['feature_1', 'feature_2', 'feature_3'])"
   ]
  },
  {
   "cell_type": "code",
   "execution_count": 14,
   "metadata": {},
   "outputs": [
    {
     "name": "stdout",
     "output_type": "stream",
     "text": [
      "234 ms ± 5.78 ms per loop (mean ± std. dev. of 7 runs, 1 loop each)\n"
     ]
    }
   ],
   "source": [
    "%%timeit\n",
    "train_v2.first_active_month.str.split('-')[0]\n",
    "train_v2.first_active_month.str.split('-')[1]"
   ]
  },
  {
   "cell_type": "code",
   "execution_count": 15,
   "metadata": {},
   "outputs": [
    {
     "name": "stdout",
     "output_type": "stream",
     "text": [
      "96.2 ms ± 1.25 ms per loop (mean ± std. dev. of 7 runs, 10 loops each)\n"
     ]
    }
   ],
   "source": [
    "%%timeit\n",
    "pd.to_datetime(train_v2.first_active_month).dt.month\n",
    "pd.to_datetime(train_v2.first_active_month).dt.year"
   ]
  },
  {
   "cell_type": "code",
   "execution_count": 8,
   "metadata": {},
   "outputs": [],
   "source": [
    "# turn these into categories?\n",
    "train_v2['elapsed_time'] = (pd.to_datetime(train_v2.first_active_month.max()).date() - pd.to_datetime(train_v2.first_active_month).dt.date).dt.days\n",
    "train_v2['first_active_year'] = pd.to_datetime(train_v2.first_active_month).dt.year\n",
    "train_v2['first_active_month'] = pd.to_datetime(train_v2.first_active_month).dt.month\n",
    "\n",
    "# do time elapsed from first active date to present date\n",
    "# df['elapsed_time'] = (datetime.date(2018, 2, 1) - df['first_active_month'].dt.date).dt.days"
   ]
  },
  {
   "cell_type": "code",
   "execution_count": 66,
   "metadata": {},
   "outputs": [
    {
     "data": {
      "text/plain": [
       "datetime.date(2018, 2, 1)"
      ]
     },
     "execution_count": 66,
     "metadata": {},
     "output_type": "execute_result"
    }
   ],
   "source": [
    "pd.to_datetime(train.first_active_month.max()).date()"
   ]
  },
  {
   "cell_type": "code",
   "execution_count": 19,
   "metadata": {},
   "outputs": [
    {
     "data": {
      "text/plain": [
       "array(['card_id'], dtype=object)"
      ]
     },
     "execution_count": 19,
     "metadata": {},
     "output_type": "execute_result"
    }
   ],
   "source": [
    "column_match(train, hist_trans)"
   ]
  },
  {
   "cell_type": "code",
   "execution_count": 18,
   "metadata": {},
   "outputs": [
    {
     "data": {
      "text/plain": [
       "array(['city_id', 'category_1', 'merchant_category_id', 'merchant_id',\n",
       "       'category_2', 'state_id', 'subsector_id'], dtype=object)"
      ]
     },
     "execution_count": 18,
     "metadata": {},
     "output_type": "execute_result"
    }
   ],
   "source": [
    "column_match(hist_trans, merch)"
   ]
  },
  {
   "cell_type": "markdown",
   "metadata": {},
   "source": [
    "Tackle `hist_trans` first."
   ]
  },
  {
   "cell_type": "code",
   "execution_count": 13,
   "metadata": {},
   "outputs": [
    {
     "data": {
      "text/plain": [
       "authorized_flag               0\n",
       "card_id                       0\n",
       "city_id                       0\n",
       "category_1                    0\n",
       "installments                  0\n",
       "category_3               178159\n",
       "merchant_category_id          0\n",
       "merchant_id              138481\n",
       "month_lag                     0\n",
       "purchase_amount               0\n",
       "purchase_date                 0\n",
       "category_2              2652864\n",
       "state_id                      0\n",
       "subsector_id                  0\n",
       "dtype: int64"
      ]
     },
     "execution_count": 13,
     "metadata": {},
     "output_type": "execute_result"
    }
   ],
   "source": [
    "hist_trans.isna().sum()"
   ]
  },
  {
   "cell_type": "code",
   "execution_count": 22,
   "metadata": {},
   "outputs": [
    {
     "data": {
      "text/html": [
       "<div>\n",
       "<style scoped>\n",
       "    .dataframe tbody tr th:only-of-type {\n",
       "        vertical-align: middle;\n",
       "    }\n",
       "\n",
       "    .dataframe tbody tr th {\n",
       "        vertical-align: top;\n",
       "    }\n",
       "\n",
       "    .dataframe thead th {\n",
       "        text-align: right;\n",
       "    }\n",
       "</style>\n",
       "<table border=\"1\" class=\"dataframe\">\n",
       "  <thead>\n",
       "    <tr style=\"text-align: right;\">\n",
       "      <th></th>\n",
       "      <th>0</th>\n",
       "      <th>1</th>\n",
       "      <th>2</th>\n",
       "    </tr>\n",
       "  </thead>\n",
       "  <tbody>\n",
       "    <tr>\n",
       "      <th>authorized_flag</th>\n",
       "      <td>Y</td>\n",
       "      <td>Y</td>\n",
       "      <td>Y</td>\n",
       "    </tr>\n",
       "    <tr>\n",
       "      <th>card_id</th>\n",
       "      <td>C_ID_4e6213e9bc</td>\n",
       "      <td>C_ID_4e6213e9bc</td>\n",
       "      <td>C_ID_4e6213e9bc</td>\n",
       "    </tr>\n",
       "    <tr>\n",
       "      <th>city_id</th>\n",
       "      <td>88</td>\n",
       "      <td>88</td>\n",
       "      <td>88</td>\n",
       "    </tr>\n",
       "    <tr>\n",
       "      <th>category_1</th>\n",
       "      <td>N</td>\n",
       "      <td>N</td>\n",
       "      <td>N</td>\n",
       "    </tr>\n",
       "    <tr>\n",
       "      <th>installments</th>\n",
       "      <td>0</td>\n",
       "      <td>0</td>\n",
       "      <td>0</td>\n",
       "    </tr>\n",
       "    <tr>\n",
       "      <th>category_3</th>\n",
       "      <td>A</td>\n",
       "      <td>A</td>\n",
       "      <td>A</td>\n",
       "    </tr>\n",
       "    <tr>\n",
       "      <th>merchant_category_id</th>\n",
       "      <td>80</td>\n",
       "      <td>367</td>\n",
       "      <td>80</td>\n",
       "    </tr>\n",
       "    <tr>\n",
       "      <th>merchant_id</th>\n",
       "      <td>M_ID_e020e9b302</td>\n",
       "      <td>M_ID_86ec983688</td>\n",
       "      <td>M_ID_979ed661fc</td>\n",
       "    </tr>\n",
       "    <tr>\n",
       "      <th>month_lag</th>\n",
       "      <td>-8</td>\n",
       "      <td>-7</td>\n",
       "      <td>-6</td>\n",
       "    </tr>\n",
       "    <tr>\n",
       "      <th>purchase_amount</th>\n",
       "      <td>-0.703331</td>\n",
       "      <td>-0.733128</td>\n",
       "      <td>-0.720386</td>\n",
       "    </tr>\n",
       "    <tr>\n",
       "      <th>purchase_date</th>\n",
       "      <td>2017-06-25 15:33:07</td>\n",
       "      <td>2017-07-15 12:10:45</td>\n",
       "      <td>2017-08-09 22:04:29</td>\n",
       "    </tr>\n",
       "    <tr>\n",
       "      <th>category_2</th>\n",
       "      <td>1</td>\n",
       "      <td>1</td>\n",
       "      <td>1</td>\n",
       "    </tr>\n",
       "    <tr>\n",
       "      <th>state_id</th>\n",
       "      <td>16</td>\n",
       "      <td>16</td>\n",
       "      <td>16</td>\n",
       "    </tr>\n",
       "    <tr>\n",
       "      <th>subsector_id</th>\n",
       "      <td>37</td>\n",
       "      <td>16</td>\n",
       "      <td>37</td>\n",
       "    </tr>\n",
       "  </tbody>\n",
       "</table>\n",
       "</div>"
      ],
      "text/plain": [
       "                                        0                    1  \\\n",
       "authorized_flag                         Y                    Y   \n",
       "card_id                   C_ID_4e6213e9bc      C_ID_4e6213e9bc   \n",
       "city_id                                88                   88   \n",
       "category_1                              N                    N   \n",
       "installments                            0                    0   \n",
       "category_3                              A                    A   \n",
       "merchant_category_id                   80                  367   \n",
       "merchant_id               M_ID_e020e9b302      M_ID_86ec983688   \n",
       "month_lag                              -8                   -7   \n",
       "purchase_amount                 -0.703331            -0.733128   \n",
       "purchase_date         2017-06-25 15:33:07  2017-07-15 12:10:45   \n",
       "category_2                              1                    1   \n",
       "state_id                               16                   16   \n",
       "subsector_id                           37                   16   \n",
       "\n",
       "                                        2  \n",
       "authorized_flag                         Y  \n",
       "card_id                   C_ID_4e6213e9bc  \n",
       "city_id                                88  \n",
       "category_1                              N  \n",
       "installments                            0  \n",
       "category_3                              A  \n",
       "merchant_category_id                   80  \n",
       "merchant_id               M_ID_979ed661fc  \n",
       "month_lag                              -6  \n",
       "purchase_amount                 -0.720386  \n",
       "purchase_date         2017-08-09 22:04:29  \n",
       "category_2                              1  \n",
       "state_id                               16  \n",
       "subsector_id                           37  "
      ]
     },
     "execution_count": 22,
     "metadata": {},
     "output_type": "execute_result"
    }
   ],
   "source": [
    "hist_trans.head(3).transpose()"
   ]
  },
  {
   "cell_type": "code",
   "execution_count": 23,
   "metadata": {},
   "outputs": [
    {
     "data": {
      "text/plain": [
       "326311"
      ]
     },
     "execution_count": 23,
     "metadata": {},
     "output_type": "execute_result"
    }
   ],
   "source": [
    "hist_trans.merchant_id.nunique()"
   ]
  },
  {
   "cell_type": "code",
   "execution_count": 24,
   "metadata": {},
   "outputs": [
    {
     "data": {
      "text/plain": [
       "array(['Y', 'N'], dtype=object)"
      ]
     },
     "execution_count": 24,
     "metadata": {},
     "output_type": "execute_result"
    }
   ],
   "source": [
    "hist_trans.authorized_flag.unique()"
   ]
  },
  {
   "cell_type": "code",
   "execution_count": 70,
   "metadata": {},
   "outputs": [
    {
     "data": {
      "text/plain": [
       "<matplotlib.axes._subplots.AxesSubplot at 0x1a26b3d0f0>"
      ]
     },
     "execution_count": 70,
     "metadata": {},
     "output_type": "execute_result"
    },
    {
     "data": {
      "image/png": "[encoded data removed]",
      "text/plain": [
       "<Figure size 432x288 with 1 Axes>"
      ]
     },
     "metadata": {},
     "output_type": "display_data"
    }
   ],
   "source": [
    "hist_trans.authorized_flag.value_counts().plot(kind='bar')"
   ]
  },
  {
   "cell_type": "code",
   "execution_count": 11,
   "metadata": {},
   "outputs": [
    {
     "data": {
      "text/plain": [
       "0    N\n",
       "1    N\n",
       "2    N\n",
       "3    N\n",
       "4    N\n",
       "Name: category_1, dtype: category\n",
       "Categories (2, object): [N, Y]"
      ]
     },
     "execution_count": 11,
     "metadata": {},
     "output_type": "execute_result"
    }
   ],
   "source": [
    "# categorical or label encode as 0s and 1s?\n",
    "# for both category 1 and authorized flag\n",
    "hist_trans.category_1.astype('category').head()"
   ]
  },
  {
   "cell_type": "code",
   "execution_count": 57,
   "metadata": {},
   "outputs": [
    {
     "data": {
      "text/plain": [
       "Float64Index([1498404787.0, 1500120645.0, 1502316269.0, 1504346786.0,\n",
       "              1489108459.0],\n",
       "             dtype='float64', name='purchase_date')"
      ]
     },
     "execution_count": 57,
     "metadata": {},
     "output_type": "execute_result"
    }
   ],
   "source": [
    "pd.DatetimeIndex(hist_trans['purchase_date'].head()).\\\n",
    "                                      astype(np.int64) * 1e-9"
   ]
  },
  {
   "cell_type": "code",
   "execution_count": 58,
   "metadata": {},
   "outputs": [
    {
     "data": {
      "text/plain": [
       "0    2017-06-25 15:33:07\n",
       "1    2017-07-15 12:10:45\n",
       "2    2017-08-09 22:04:29\n",
       "3    2017-09-02 10:06:26\n",
       "4    2017-03-10 01:14:19\n",
       "Name: purchase_date, dtype: object"
      ]
     },
     "execution_count": 58,
     "metadata": {},
     "output_type": "execute_result"
    }
   ],
   "source": [
    "hist_trans.purchase_date.head()"
   ]
  },
  {
   "cell_type": "code",
   "execution_count": 59,
   "metadata": {},
   "outputs": [
    {
     "data": {
      "text/plain": [
       "DatetimeIndex(['2017-06-25 15:33:07', '2017-07-15 12:10:45',\n",
       "               '2017-08-09 22:04:29', '2017-09-02 10:06:26',\n",
       "               '2017-03-10 01:14:19'],\n",
       "              dtype='datetime64[ns]', name='purchase_date', freq=None)"
      ]
     },
     "execution_count": 59,
     "metadata": {},
     "output_type": "execute_result"
    }
   ],
   "source": [
    "pd.DatetimeIndex(hist_trans['purchase_date'].head())"
   ]
  },
  {
   "cell_type": "code",
   "execution_count": 14,
   "metadata": {},
   "outputs": [
    {
     "data": {
      "text/plain": [
       "array(['A', 'B', 'C', nan], dtype=object)"
      ]
     },
     "execution_count": 14,
     "metadata": {},
     "output_type": "execute_result"
    }
   ],
   "source": [
    "hist_trans.category_3.unique()"
   ]
  },
  {
   "cell_type": "code",
   "execution_count": 9,
   "metadata": {},
   "outputs": [],
   "source": [
    "# do time of day?\n",
    "# do time elapsed since purchase and between purchase and start date\n",
    "hist_trans['purchase_date_year'] = pd.to_datetime(hist_trans.purchase_date).dt.year\n",
    "hist_trans['purchase_date_month'] = pd.to_datetime(hist_trans.purchase_date).dt.month\n",
    "hist_trans['purchase_date_day'] = pd.to_datetime(hist_trans.purchase_date).dt.day\n",
    "\n",
    "hist_trans['purchase_date_hour'] = pd.to_datetime(hist_trans.purchase_date).dt.hour"
   ]
  },
  {
   "cell_type": "code",
   "execution_count": 10,
   "metadata": {},
   "outputs": [],
   "source": [
    "hist_trans['authorized_flag'] = hist_trans['authorized_flag'].map({'Y':1, 'N':0})"
   ]
  },
  {
   "cell_type": "code",
   "execution_count": 81,
   "metadata": {},
   "outputs": [
    {
     "data": {
      "text/plain": [
       "0.9135450058482031"
      ]
     },
     "execution_count": 81,
     "metadata": {},
     "output_type": "execute_result"
    }
   ],
   "source": [
    "hist_trans.authorized_flag.mean()"
   ]
  },
  {
   "cell_type": "code",
   "execution_count": 22,
   "metadata": {},
   "outputs": [
    {
     "data": {
      "text/plain": [
       "(308, 25)"
      ]
     },
     "execution_count": 22,
     "metadata": {},
     "output_type": "execute_result"
    }
   ],
   "source": [
    "hist_trans.city_id.nunique(), hist_trans.state_id.nunique()"
   ]
  },
  {
   "cell_type": "code",
   "execution_count": 30,
   "metadata": {},
   "outputs": [
    {
     "data": {
      "text/plain": [
       "(41, 41)"
      ]
     },
     "execution_count": 30,
     "metadata": {},
     "output_type": "execute_result"
    }
   ],
   "source": [
    "hist_trans.subsector_id.nunique(), merch.subsector_id.nunique()"
   ]
  },
  {
   "cell_type": "markdown",
   "metadata": {},
   "source": [
    "What to do (target) encoding on? "
   ]
  },
  {
   "cell_type": "markdown",
   "metadata": {},
   "source": [
    "#### Merchant Dataset"
   ]
  },
  {
   "cell_type": "code",
   "execution_count": 26,
   "metadata": {},
   "outputs": [
    {
     "data": {
      "text/html": [
       "<div>\n",
       "<style scoped>\n",
       "    .dataframe tbody tr th:only-of-type {\n",
       "        vertical-align: middle;\n",
       "    }\n",
       "\n",
       "    .dataframe tbody tr th {\n",
       "        vertical-align: top;\n",
       "    }\n",
       "\n",
       "    .dataframe thead th {\n",
       "        text-align: right;\n",
       "    }\n",
       "</style>\n",
       "<table border=\"1\" class=\"dataframe\">\n",
       "  <thead>\n",
       "    <tr style=\"text-align: right;\">\n",
       "      <th></th>\n",
       "      <th>0</th>\n",
       "      <th>1</th>\n",
       "      <th>2</th>\n",
       "    </tr>\n",
       "  </thead>\n",
       "  <tbody>\n",
       "    <tr>\n",
       "      <th>merchant_id</th>\n",
       "      <td>M_ID_838061e48c</td>\n",
       "      <td>M_ID_9339d880ad</td>\n",
       "      <td>M_ID_e726bbae1e</td>\n",
       "    </tr>\n",
       "    <tr>\n",
       "      <th>merchant_group_id</th>\n",
       "      <td>8353</td>\n",
       "      <td>3184</td>\n",
       "      <td>447</td>\n",
       "    </tr>\n",
       "    <tr>\n",
       "      <th>merchant_category_id</th>\n",
       "      <td>792</td>\n",
       "      <td>840</td>\n",
       "      <td>690</td>\n",
       "    </tr>\n",
       "    <tr>\n",
       "      <th>subsector_id</th>\n",
       "      <td>9</td>\n",
       "      <td>20</td>\n",
       "      <td>1</td>\n",
       "    </tr>\n",
       "    <tr>\n",
       "      <th>numerical_1</th>\n",
       "      <td>-0.0574706</td>\n",
       "      <td>-0.0574706</td>\n",
       "      <td>-0.0574706</td>\n",
       "    </tr>\n",
       "    <tr>\n",
       "      <th>numerical_2</th>\n",
       "      <td>-0.0574706</td>\n",
       "      <td>-0.0574706</td>\n",
       "      <td>-0.0574706</td>\n",
       "    </tr>\n",
       "    <tr>\n",
       "      <th>category_1</th>\n",
       "      <td>N</td>\n",
       "      <td>N</td>\n",
       "      <td>N</td>\n",
       "    </tr>\n",
       "    <tr>\n",
       "      <th>most_recent_sales_range</th>\n",
       "      <td>E</td>\n",
       "      <td>E</td>\n",
       "      <td>E</td>\n",
       "    </tr>\n",
       "    <tr>\n",
       "      <th>most_recent_purchases_range</th>\n",
       "      <td>E</td>\n",
       "      <td>E</td>\n",
       "      <td>E</td>\n",
       "    </tr>\n",
       "    <tr>\n",
       "      <th>avg_sales_lag3</th>\n",
       "      <td>-0.4</td>\n",
       "      <td>-0.72</td>\n",
       "      <td>-82.13</td>\n",
       "    </tr>\n",
       "    <tr>\n",
       "      <th>avg_purchases_lag3</th>\n",
       "      <td>9.66667</td>\n",
       "      <td>1.75</td>\n",
       "      <td>260</td>\n",
       "    </tr>\n",
       "    <tr>\n",
       "      <th>active_months_lag3</th>\n",
       "      <td>3</td>\n",
       "      <td>3</td>\n",
       "      <td>2</td>\n",
       "    </tr>\n",
       "    <tr>\n",
       "      <th>avg_sales_lag6</th>\n",
       "      <td>-2.25</td>\n",
       "      <td>-0.74</td>\n",
       "      <td>-82.13</td>\n",
       "    </tr>\n",
       "    <tr>\n",
       "      <th>avg_purchases_lag6</th>\n",
       "      <td>18.6667</td>\n",
       "      <td>1.29167</td>\n",
       "      <td>260</td>\n",
       "    </tr>\n",
       "    <tr>\n",
       "      <th>active_months_lag6</th>\n",
       "      <td>6</td>\n",
       "      <td>6</td>\n",
       "      <td>2</td>\n",
       "    </tr>\n",
       "    <tr>\n",
       "      <th>avg_sales_lag12</th>\n",
       "      <td>-2.32</td>\n",
       "      <td>-0.57</td>\n",
       "      <td>-82.13</td>\n",
       "    </tr>\n",
       "    <tr>\n",
       "      <th>avg_purchases_lag12</th>\n",
       "      <td>13.9167</td>\n",
       "      <td>1.6875</td>\n",
       "      <td>260</td>\n",
       "    </tr>\n",
       "    <tr>\n",
       "      <th>active_months_lag12</th>\n",
       "      <td>12</td>\n",
       "      <td>12</td>\n",
       "      <td>2</td>\n",
       "    </tr>\n",
       "    <tr>\n",
       "      <th>category_4</th>\n",
       "      <td>N</td>\n",
       "      <td>N</td>\n",
       "      <td>N</td>\n",
       "    </tr>\n",
       "    <tr>\n",
       "      <th>city_id</th>\n",
       "      <td>242</td>\n",
       "      <td>22</td>\n",
       "      <td>-1</td>\n",
       "    </tr>\n",
       "    <tr>\n",
       "      <th>state_id</th>\n",
       "      <td>9</td>\n",
       "      <td>16</td>\n",
       "      <td>5</td>\n",
       "    </tr>\n",
       "    <tr>\n",
       "      <th>category_2</th>\n",
       "      <td>1</td>\n",
       "      <td>1</td>\n",
       "      <td>5</td>\n",
       "    </tr>\n",
       "  </tbody>\n",
       "</table>\n",
       "</div>"
      ],
      "text/plain": [
       "                                           0                1                2\n",
       "merchant_id                  M_ID_838061e48c  M_ID_9339d880ad  M_ID_e726bbae1e\n",
       "merchant_group_id                       8353             3184              447\n",
       "merchant_category_id                     792              840              690\n",
       "subsector_id                               9               20                1\n",
       "numerical_1                       -0.0574706       -0.0574706       -0.0574706\n",
       "numerical_2                       -0.0574706       -0.0574706       -0.0574706\n",
       "category_1                                 N                N                N\n",
       "most_recent_sales_range                    E                E                E\n",
       "most_recent_purchases_range                E                E                E\n",
       "avg_sales_lag3                          -0.4            -0.72           -82.13\n",
       "avg_purchases_lag3                   9.66667             1.75              260\n",
       "active_months_lag3                         3                3                2\n",
       "avg_sales_lag6                         -2.25            -0.74           -82.13\n",
       "avg_purchases_lag6                   18.6667          1.29167              260\n",
       "active_months_lag6                         6                6                2\n",
       "avg_sales_lag12                        -2.32            -0.57           -82.13\n",
       "avg_purchases_lag12                  13.9167           1.6875              260\n",
       "active_months_lag12                       12               12                2\n",
       "category_4                                 N                N                N\n",
       "city_id                                  242               22               -1\n",
       "state_id                                   9               16                5\n",
       "category_2                                 1                1                5"
      ]
     },
     "execution_count": 26,
     "metadata": {},
     "output_type": "execute_result"
    }
   ],
   "source": [
    "merch.head(3).transpose()"
   ]
  },
  {
   "cell_type": "code",
   "execution_count": 33,
   "metadata": {},
   "outputs": [
    {
     "data": {
      "text/plain": [
       "True"
      ]
     },
     "execution_count": 33,
     "metadata": {},
     "output_type": "execute_result"
    }
   ],
   "source": [
    "# Why are these the same?\n",
    "np.all(merch.numerical_1) == np.all(merch.numerical_2)"
   ]
  },
  {
   "cell_type": "code",
   "execution_count": 34,
   "metadata": {},
   "outputs": [
    {
     "data": {
      "text/plain": [
       "[E, D, C, A, B]\n",
       "Categories (5, object): [E, D, C, A, B]"
      ]
     },
     "execution_count": 34,
     "metadata": {},
     "output_type": "execute_result"
    }
   ],
   "source": [
    "# can we deduce the sales range amounts?\n",
    "merch.most_recent_purchases_range.unique()"
   ]
  },
  {
   "cell_type": "code",
   "execution_count": 28,
   "metadata": {},
   "outputs": [
    {
     "data": {
      "text/plain": [
       "[E, C, D, A, B]\n",
       "Categories (5, object): [E, C, D, A, B]"
      ]
     },
     "execution_count": 28,
     "metadata": {},
     "output_type": "execute_result"
    }
   ],
   "source": [
    "merch.most_recent_sales_range.unique()"
   ]
  },
  {
   "cell_type": "code",
   "execution_count": 31,
   "metadata": {},
   "outputs": [
    {
     "data": {
      "text/plain": [
       "(324, 109391)"
      ]
     },
     "execution_count": 31,
     "metadata": {},
     "output_type": "execute_result"
    }
   ],
   "source": [
    "merch.merchant_category_id.nunique(), merch.merchant_group_id.nunique()"
   ]
  },
  {
   "cell_type": "markdown",
   "metadata": {},
   "source": [
    "### Slightly More Advanced Models"
   ]
  },
  {
   "cell_type": "code",
   "execution_count": 13,
   "metadata": {},
   "outputs": [],
   "source": [
    "from sklearn.linear_model import LinearRegression\n",
    "from sklearn.model_selection import train_test_split"
   ]
  },
  {
   "cell_type": "code",
   "execution_count": 14,
   "metadata": {},
   "outputs": [
    {
     "data": {
      "text/plain": [
       "3.8294417623804233"
      ]
     },
     "execution_count": 14,
     "metadata": {},
     "output_type": "execute_result"
    }
   ],
   "source": [
    "lr = LinearRegression(normalize=False)\n",
    "\n",
    "X = train_v2.drop(['card_id', 'target'], axis=1)\n",
    "y = train_v2.target\n",
    "\n",
    "X_tr, X_val, y_tr, y_val = train_test_split(X, y, test_size = 0.35, random_state=11)\n",
    "\n",
    "lr.fit(X_tr, y_tr)\n",
    "\n",
    "val_preds = lr.predict(X_val)\n",
    "\n",
    "calc_rmse(y_val, val_preds)"
   ]
  },
  {
   "cell_type": "code",
   "execution_count": 11,
   "metadata": {},
   "outputs": [],
   "source": [
    "mean_encoding_test(test, train, 'feature_1', 'target')\n",
    "mean_encoding_test(test, train, 'feature_2', 'target')\n",
    "mean_encoding_test(test, train, 'feature_3', 'target')"
   ]
  },
  {
   "cell_type": "code",
   "execution_count": 12,
   "metadata": {},
   "outputs": [],
   "source": [
    "test_v2 = pd.get_dummies(test, columns=['feature_1', 'feature_2', 'feature_3'])\n",
    "test_v2['elapsed_time'] = (pd.to_datetime(test_v2.first_active_month.max()).date() - pd.to_datetime(test_v2.first_active_month).dt.date).dt.days\n",
    "test_v2['first_active_year'] = pd.to_datetime(test_v2.first_active_month).dt.year\n",
    "test_v2['first_active_month'] = pd.to_datetime(test_v2.first_active_month).dt.month"
   ]
  },
  {
   "cell_type": "code",
   "execution_count": 15,
   "metadata": {},
   "outputs": [],
   "source": [
    "test_preds = lr.predict(test_v2.drop(['card_id'], axis=1))\n",
    "base_sub_df = pd.DataFrame(np.array([test.card_id, test_preds]).T, columns=['card_id', 'target'])\n",
    "\n",
    "base_sub_df.to_csv('submissions/sub_3_baseline_feng.csv', index=False)"
   ]
  },
  {
   "cell_type": "markdown",
   "metadata": {},
   "source": [
    "#### How about a RF Model?"
   ]
  },
  {
   "cell_type": "code",
   "execution_count": 16,
   "metadata": {},
   "outputs": [],
   "source": [
    "from sklearn.ensemble import RandomForestRegressor"
   ]
  },
  {
   "cell_type": "code",
   "execution_count": 19,
   "metadata": {},
   "outputs": [
    {
     "data": {
      "text/plain": [
       "3.8606348026228456"
      ]
     },
     "execution_count": 19,
     "metadata": {},
     "output_type": "execute_result"
    }
   ],
   "source": [
    "rfr = RandomForestRegressor(n_estimators=100, oob_score=True)\n",
    "\n",
    "rfr.fit(X_tr, y_tr)\n",
    "\n",
    "val_preds_rfr = rfr.predict(X_val)\n",
    "\n",
    "calc_rmse(y_val, val_preds_rfr)"
   ]
  },
  {
   "cell_type": "markdown",
   "metadata": {},
   "source": [
    "No improvement on the leaderboard"
   ]
  },
  {
   "cell_type": "code",
   "execution_count": 20,
   "metadata": {},
   "outputs": [],
   "source": [
    "test_preds_rfr = rfr.predict(test_v2.drop(['card_id'], axis=1))\n",
    "base_sub_rfr_df = pd.DataFrame(np.array([test.card_id, test_preds_rfr]).T, columns=['card_id', 'target'])\n",
    "\n",
    "base_sub_rfr_df.to_csv('submissions/sub_4_rfr_base_feng.csv', index=False)"
   ]
  },
  {
   "cell_type": "markdown",
   "metadata": {},
   "source": [
    "### Back to FEng"
   ]
  },
  {
   "cell_type": "code",
   "execution_count": 14,
   "metadata": {},
   "outputs": [
    {
     "data": {
      "text/plain": [
       "array(['card_id'], dtype=object)"
      ]
     },
     "execution_count": 14,
     "metadata": {},
     "output_type": "execute_result"
    }
   ],
   "source": [
    "column_match(train_v2, hist_trans)"
   ]
  },
  {
   "cell_type": "code",
   "execution_count": 21,
   "metadata": {},
   "outputs": [],
   "source": [
    "train_v3 = train_v2.merge(hist_trans, how='left', on='card_id')"
   ]
  },
  {
   "cell_type": "code",
   "execution_count": 26,
   "metadata": {},
   "outputs": [],
   "source": [
    "ht_agg = aggregate_historical_transactions(hist_trans)"
   ]
  },
  {
   "cell_type": "code",
   "execution_count": 28,
   "metadata": {},
   "outputs": [
    {
     "data": {
      "text/html": [
       "<div>\n",
       "<style scoped>\n",
       "    .dataframe tbody tr th:only-of-type {\n",
       "        vertical-align: middle;\n",
       "    }\n",
       "\n",
       "    .dataframe tbody tr th {\n",
       "        vertical-align: top;\n",
       "    }\n",
       "\n",
       "    .dataframe thead th {\n",
       "        text-align: right;\n",
       "    }\n",
       "</style>\n",
       "<table border=\"1\" class=\"dataframe\">\n",
       "  <thead>\n",
       "    <tr style=\"text-align: right;\">\n",
       "      <th></th>\n",
       "      <th>authorized_flag</th>\n",
       "      <th>card_id</th>\n",
       "      <th>city_id</th>\n",
       "      <th>category_1</th>\n",
       "      <th>installments</th>\n",
       "      <th>category_3</th>\n",
       "      <th>merchant_category_id</th>\n",
       "      <th>merchant_id</th>\n",
       "      <th>month_lag</th>\n",
       "      <th>purchase_amount</th>\n",
       "      <th>purchase_date</th>\n",
       "      <th>category_2</th>\n",
       "      <th>state_id</th>\n",
       "      <th>subsector_id</th>\n",
       "    </tr>\n",
       "  </thead>\n",
       "  <tbody>\n",
       "    <tr>\n",
       "      <th>0</th>\n",
       "      <td>Y</td>\n",
       "      <td>C_ID_415bb3a509</td>\n",
       "      <td>107</td>\n",
       "      <td>N</td>\n",
       "      <td>1</td>\n",
       "      <td>B</td>\n",
       "      <td>307</td>\n",
       "      <td>M_ID_b0c793002c</td>\n",
       "      <td>1</td>\n",
       "      <td>-0.557574</td>\n",
       "      <td>2018-03-11 14:57:36</td>\n",
       "      <td>1.0</td>\n",
       "      <td>9</td>\n",
       "      <td>19</td>\n",
       "    </tr>\n",
       "    <tr>\n",
       "      <th>1</th>\n",
       "      <td>Y</td>\n",
       "      <td>C_ID_415bb3a509</td>\n",
       "      <td>140</td>\n",
       "      <td>N</td>\n",
       "      <td>1</td>\n",
       "      <td>B</td>\n",
       "      <td>307</td>\n",
       "      <td>M_ID_88920c89e8</td>\n",
       "      <td>1</td>\n",
       "      <td>-0.569580</td>\n",
       "      <td>2018-03-19 18:53:37</td>\n",
       "      <td>1.0</td>\n",
       "      <td>9</td>\n",
       "      <td>19</td>\n",
       "    </tr>\n",
       "    <tr>\n",
       "      <th>2</th>\n",
       "      <td>Y</td>\n",
       "      <td>C_ID_415bb3a509</td>\n",
       "      <td>330</td>\n",
       "      <td>N</td>\n",
       "      <td>1</td>\n",
       "      <td>B</td>\n",
       "      <td>507</td>\n",
       "      <td>M_ID_ad5237ef6b</td>\n",
       "      <td>2</td>\n",
       "      <td>-0.551037</td>\n",
       "      <td>2018-04-26 14:08:44</td>\n",
       "      <td>1.0</td>\n",
       "      <td>9</td>\n",
       "      <td>14</td>\n",
       "    </tr>\n",
       "    <tr>\n",
       "      <th>3</th>\n",
       "      <td>Y</td>\n",
       "      <td>C_ID_415bb3a509</td>\n",
       "      <td>-1</td>\n",
       "      <td>Y</td>\n",
       "      <td>1</td>\n",
       "      <td>B</td>\n",
       "      <td>661</td>\n",
       "      <td>M_ID_9e84cda3b1</td>\n",
       "      <td>1</td>\n",
       "      <td>-0.671925</td>\n",
       "      <td>2018-03-07 09:43:21</td>\n",
       "      <td>NaN</td>\n",
       "      <td>-1</td>\n",
       "      <td>8</td>\n",
       "    </tr>\n",
       "    <tr>\n",
       "      <th>4</th>\n",
       "      <td>Y</td>\n",
       "      <td>C_ID_ef55cf8d4b</td>\n",
       "      <td>-1</td>\n",
       "      <td>Y</td>\n",
       "      <td>1</td>\n",
       "      <td>B</td>\n",
       "      <td>166</td>\n",
       "      <td>M_ID_3c86fa3831</td>\n",
       "      <td>1</td>\n",
       "      <td>-0.659904</td>\n",
       "      <td>2018-03-22 21:07:53</td>\n",
       "      <td>NaN</td>\n",
       "      <td>-1</td>\n",
       "      <td>29</td>\n",
       "    </tr>\n",
       "  </tbody>\n",
       "</table>\n",
       "</div>"
      ],
      "text/plain": [
       "  authorized_flag          card_id  city_id category_1  installments  \\\n",
       "0               Y  C_ID_415bb3a509      107          N             1   \n",
       "1               Y  C_ID_415bb3a509      140          N             1   \n",
       "2               Y  C_ID_415bb3a509      330          N             1   \n",
       "3               Y  C_ID_415bb3a509       -1          Y             1   \n",
       "4               Y  C_ID_ef55cf8d4b       -1          Y             1   \n",
       "\n",
       "  category_3  merchant_category_id      merchant_id  month_lag  \\\n",
       "0          B                   307  M_ID_b0c793002c          1   \n",
       "1          B                   307  M_ID_88920c89e8          1   \n",
       "2          B                   507  M_ID_ad5237ef6b          2   \n",
       "3          B                   661  M_ID_9e84cda3b1          1   \n",
       "4          B                   166  M_ID_3c86fa3831          1   \n",
       "\n",
       "   purchase_amount        purchase_date  category_2  state_id  subsector_id  \n",
       "0        -0.557574  2018-03-11 14:57:36         1.0         9            19  \n",
       "1        -0.569580  2018-03-19 18:53:37         1.0         9            19  \n",
       "2        -0.551037  2018-04-26 14:08:44         1.0         9            14  \n",
       "3        -0.671925  2018-03-07 09:43:21         NaN        -1             8  \n",
       "4        -0.659904  2018-03-22 21:07:53         NaN        -1            29  "
      ]
     },
     "execution_count": 28,
     "metadata": {},
     "output_type": "execute_result"
    }
   ],
   "source": [
    "new_trans.head()"
   ]
  },
  {
   "cell_type": "code",
   "execution_count": 29,
   "metadata": {},
   "outputs": [],
   "source": [
    "new_trans['purchase_date_year'] = pd.to_datetime(new_trans.purchase_date).dt.year\n",
    "new_trans['purchase_date_month'] = pd.to_datetime(new_trans.purchase_date).dt.month\n",
    "new_trans['purchase_date_day'] = pd.to_datetime(new_trans.purchase_date).dt.day\n",
    "\n",
    "new_trans['purchase_date_hour'] = pd.to_datetime(new_trans.purchase_date).dt.hour\n",
    "\n",
    "new_trans['authorized_flag'] = new_trans['authorized_flag'].map({'Y':1, 'N':0})"
   ]
  },
  {
   "cell_type": "code",
   "execution_count": 31,
   "metadata": {},
   "outputs": [
    {
     "data": {
      "text/html": [
       "<div>\n",
       "<style scoped>\n",
       "    .dataframe tbody tr th:only-of-type {\n",
       "        vertical-align: middle;\n",
       "    }\n",
       "\n",
       "    .dataframe tbody tr th {\n",
       "        vertical-align: top;\n",
       "    }\n",
       "\n",
       "    .dataframe thead th {\n",
       "        text-align: right;\n",
       "    }\n",
       "</style>\n",
       "<table border=\"1\" class=\"dataframe\">\n",
       "  <thead>\n",
       "    <tr style=\"text-align: right;\">\n",
       "      <th></th>\n",
       "      <th>card_id</th>\n",
       "      <th>new_transactions_count</th>\n",
       "      <th>new_authorized_flag_sum</th>\n",
       "      <th>new_authorized_flag_mean</th>\n",
       "      <th>new_merchant_id_nunique</th>\n",
       "      <th>new_city_id_nunique</th>\n",
       "      <th>new_purchase_amount_sum</th>\n",
       "      <th>new_purchase_amount_median</th>\n",
       "      <th>new_purchase_amount_max</th>\n",
       "      <th>new_purchase_amount_min</th>\n",
       "      <th>new_purchase_amount_std</th>\n",
       "      <th>new_installments_sum</th>\n",
       "      <th>new_installments_median</th>\n",
       "      <th>new_installments_max</th>\n",
       "      <th>new_installments_min</th>\n",
       "      <th>new_installments_std</th>\n",
       "      <th>new_month_lag_min</th>\n",
       "      <th>new_month_lag_max</th>\n",
       "    </tr>\n",
       "  </thead>\n",
       "  <tbody>\n",
       "    <tr>\n",
       "      <th>0</th>\n",
       "      <td>C_ID_00007093c1</td>\n",
       "      <td>2</td>\n",
       "      <td>2</td>\n",
       "      <td>1</td>\n",
       "      <td>2</td>\n",
       "      <td>2</td>\n",
       "      <td>-1.328524</td>\n",
       "      <td>-0.664262</td>\n",
       "      <td>-0.656749</td>\n",
       "      <td>-0.671775</td>\n",
       "      <td>0.010625</td>\n",
       "      <td>2</td>\n",
       "      <td>1.0</td>\n",
       "      <td>1</td>\n",
       "      <td>1</td>\n",
       "      <td>0.000000</td>\n",
       "      <td>2</td>\n",
       "      <td>2</td>\n",
       "    </tr>\n",
       "    <tr>\n",
       "      <th>1</th>\n",
       "      <td>C_ID_0001238066</td>\n",
       "      <td>26</td>\n",
       "      <td>26</td>\n",
       "      <td>1</td>\n",
       "      <td>25</td>\n",
       "      <td>8</td>\n",
       "      <td>-14.850055</td>\n",
       "      <td>-0.649235</td>\n",
       "      <td>-0.078318</td>\n",
       "      <td>-0.740897</td>\n",
       "      <td>0.173436</td>\n",
       "      <td>42</td>\n",
       "      <td>1.0</td>\n",
       "      <td>10</td>\n",
       "      <td>-1</td>\n",
       "      <td>2.079941</td>\n",
       "      <td>1</td>\n",
       "      <td>2</td>\n",
       "    </tr>\n",
       "    <tr>\n",
       "      <th>2</th>\n",
       "      <td>C_ID_0001506ef0</td>\n",
       "      <td>2</td>\n",
       "      <td>2</td>\n",
       "      <td>1</td>\n",
       "      <td>1</td>\n",
       "      <td>1</td>\n",
       "      <td>-1.447354</td>\n",
       "      <td>-0.723677</td>\n",
       "      <td>-0.715352</td>\n",
       "      <td>-0.732001</td>\n",
       "      <td>0.011773</td>\n",
       "      <td>0</td>\n",
       "      <td>0.0</td>\n",
       "      <td>0</td>\n",
       "      <td>0</td>\n",
       "      <td>0.000000</td>\n",
       "      <td>1</td>\n",
       "      <td>1</td>\n",
       "    </tr>\n",
       "    <tr>\n",
       "      <th>3</th>\n",
       "      <td>C_ID_0001793786</td>\n",
       "      <td>31</td>\n",
       "      <td>31</td>\n",
       "      <td>1</td>\n",
       "      <td>31</td>\n",
       "      <td>7</td>\n",
       "      <td>-0.229620</td>\n",
       "      <td>-0.372748</td>\n",
       "      <td>3.129932</td>\n",
       "      <td>-0.737892</td>\n",
       "      <td>0.947223</td>\n",
       "      <td>0</td>\n",
       "      <td>0.0</td>\n",
       "      <td>0</td>\n",
       "      <td>0</td>\n",
       "      <td>0.000000</td>\n",
       "      <td>1</td>\n",
       "      <td>2</td>\n",
       "    </tr>\n",
       "    <tr>\n",
       "      <th>4</th>\n",
       "      <td>C_ID_000183fdda</td>\n",
       "      <td>11</td>\n",
       "      <td>11</td>\n",
       "      <td>1</td>\n",
       "      <td>11</td>\n",
       "      <td>2</td>\n",
       "      <td>-6.590778</td>\n",
       "      <td>-0.665765</td>\n",
       "      <td>-0.107680</td>\n",
       "      <td>-0.732332</td>\n",
       "      <td>0.182877</td>\n",
       "      <td>16</td>\n",
       "      <td>1.0</td>\n",
       "      <td>4</td>\n",
       "      <td>-1</td>\n",
       "      <td>1.293340</td>\n",
       "      <td>1</td>\n",
       "      <td>2</td>\n",
       "    </tr>\n",
       "  </tbody>\n",
       "</table>\n",
       "</div>"
      ],
      "text/plain": [
       "           card_id  new_transactions_count  new_authorized_flag_sum  \\\n",
       "0  C_ID_00007093c1                       2                        2   \n",
       "1  C_ID_0001238066                      26                       26   \n",
       "2  C_ID_0001506ef0                       2                        2   \n",
       "3  C_ID_0001793786                      31                       31   \n",
       "4  C_ID_000183fdda                      11                       11   \n",
       "\n",
       "   new_authorized_flag_mean  new_merchant_id_nunique  new_city_id_nunique  \\\n",
       "0                         1                        2                    2   \n",
       "1                         1                       25                    8   \n",
       "2                         1                        1                    1   \n",
       "3                         1                       31                    7   \n",
       "4                         1                       11                    2   \n",
       "\n",
       "   new_purchase_amount_sum  new_purchase_amount_median  \\\n",
       "0                -1.328524                   -0.664262   \n",
       "1               -14.850055                   -0.649235   \n",
       "2                -1.447354                   -0.723677   \n",
       "3                -0.229620                   -0.372748   \n",
       "4                -6.590778                   -0.665765   \n",
       "\n",
       "   new_purchase_amount_max  new_purchase_amount_min  new_purchase_amount_std  \\\n",
       "0                -0.656749                -0.671775                 0.010625   \n",
       "1                -0.078318                -0.740897                 0.173436   \n",
       "2                -0.715352                -0.732001                 0.011773   \n",
       "3                 3.129932                -0.737892                 0.947223   \n",
       "4                -0.107680                -0.732332                 0.182877   \n",
       "\n",
       "   new_installments_sum  new_installments_median  new_installments_max  \\\n",
       "0                     2                      1.0                     1   \n",
       "1                    42                      1.0                    10   \n",
       "2                     0                      0.0                     0   \n",
       "3                     0                      0.0                     0   \n",
       "4                    16                      1.0                     4   \n",
       "\n",
       "   new_installments_min  new_installments_std  new_month_lag_min  \\\n",
       "0                     1              0.000000                  2   \n",
       "1                    -1              2.079941                  1   \n",
       "2                     0              0.000000                  1   \n",
       "3                     0              0.000000                  1   \n",
       "4                    -1              1.293340                  1   \n",
       "\n",
       "   new_month_lag_max  \n",
       "0                  2  \n",
       "1                  2  \n",
       "2                  1  \n",
       "3                  2  \n",
       "4                  2  "
      ]
     },
     "execution_count": 31,
     "metadata": {},
     "output_type": "execute_result"
    }
   ],
   "source": [
    "nt_agg.head()"
   ]
  },
  {
   "cell_type": "code",
   "execution_count": 30,
   "metadata": {},
   "outputs": [],
   "source": [
    "nt_agg = aggregate_new_transactions(new_trans)"
   ]
  },
  {
   "cell_type": "code",
   "execution_count": 33,
   "metadata": {},
   "outputs": [],
   "source": [
    "train_v3 = train_v2.merge(ht_agg, how='left', on='card_id')\n",
    "test_v3 = test_v2.merge(ht_agg, how='left', on='card_id')"
   ]
  },
  {
   "cell_type": "code",
   "execution_count": 34,
   "metadata": {},
   "outputs": [],
   "source": [
    "train_v4 = train_v3.merge(nt_agg, how='left', on='card_id')\n",
    "test_v4 = test_v3.merge(nt_agg, how='left', on='card_id')"
   ]
  },
  {
   "cell_type": "code",
   "execution_count": 25,
   "metadata": {},
   "outputs": [],
   "source": [
    "hg = hist_trans.groupby('card_id')\n",
    "\n",
    "hg.authorized_flag.aggregate(['sum', 'mean']).reset_index().head()"
   ]
  },
  {
   "cell_type": "code",
   "execution_count": 41,
   "metadata": {},
   "outputs": [],
   "source": [
    "train_v4.to_feather('./data/train_v4.feather')\n",
    "test_v4.to_feather('./data/test_v4.feather')"
   ]
  },
  {
   "cell_type": "code",
   "execution_count": 31,
   "metadata": {},
   "outputs": [
    {
     "data": {
      "text/html": [
       "<div>\n",
       "<style scoped>\n",
       "    .dataframe tbody tr th:only-of-type {\n",
       "        vertical-align: middle;\n",
       "    }\n",
       "\n",
       "    .dataframe tbody tr th {\n",
       "        vertical-align: top;\n",
       "    }\n",
       "\n",
       "    .dataframe thead th {\n",
       "        text-align: right;\n",
       "    }\n",
       "</style>\n",
       "<table border=\"1\" class=\"dataframe\">\n",
       "  <thead>\n",
       "    <tr style=\"text-align: right;\">\n",
       "      <th></th>\n",
       "      <th>0</th>\n",
       "      <th>1</th>\n",
       "      <th>2</th>\n",
       "    </tr>\n",
       "  </thead>\n",
       "  <tbody>\n",
       "    <tr>\n",
       "      <th>first_active_month</th>\n",
       "      <td>6</td>\n",
       "      <td>6</td>\n",
       "      <td>6</td>\n",
       "    </tr>\n",
       "    <tr>\n",
       "      <th>card_id</th>\n",
       "      <td>C_ID_92a2005557</td>\n",
       "      <td>C_ID_92a2005557</td>\n",
       "      <td>C_ID_92a2005557</td>\n",
       "    </tr>\n",
       "    <tr>\n",
       "      <th>target</th>\n",
       "      <td>-0.820283</td>\n",
       "      <td>-0.820283</td>\n",
       "      <td>-0.820283</td>\n",
       "    </tr>\n",
       "    <tr>\n",
       "      <th>feature_1_mean_enc</th>\n",
       "      <td>-0.501972</td>\n",
       "      <td>-0.501972</td>\n",
       "      <td>-0.501972</td>\n",
       "    </tr>\n",
       "    <tr>\n",
       "      <th>feature_2_mean_enc</th>\n",
       "      <td>-0.342233</td>\n",
       "      <td>-0.342233</td>\n",
       "      <td>-0.342233</td>\n",
       "    </tr>\n",
       "    <tr>\n",
       "      <th>feature_3_mean_enc</th>\n",
       "      <td>-0.429176</td>\n",
       "      <td>-0.429176</td>\n",
       "      <td>-0.429176</td>\n",
       "    </tr>\n",
       "    <tr>\n",
       "      <th>feature_1_1</th>\n",
       "      <td>0</td>\n",
       "      <td>0</td>\n",
       "      <td>0</td>\n",
       "    </tr>\n",
       "    <tr>\n",
       "      <th>feature_1_2</th>\n",
       "      <td>0</td>\n",
       "      <td>0</td>\n",
       "      <td>0</td>\n",
       "    </tr>\n",
       "    <tr>\n",
       "      <th>feature_1_3</th>\n",
       "      <td>0</td>\n",
       "      <td>0</td>\n",
       "      <td>0</td>\n",
       "    </tr>\n",
       "    <tr>\n",
       "      <th>feature_1_4</th>\n",
       "      <td>0</td>\n",
       "      <td>0</td>\n",
       "      <td>0</td>\n",
       "    </tr>\n",
       "    <tr>\n",
       "      <th>feature_1_5</th>\n",
       "      <td>1</td>\n",
       "      <td>1</td>\n",
       "      <td>1</td>\n",
       "    </tr>\n",
       "    <tr>\n",
       "      <th>feature_2_1</th>\n",
       "      <td>0</td>\n",
       "      <td>0</td>\n",
       "      <td>0</td>\n",
       "    </tr>\n",
       "    <tr>\n",
       "      <th>feature_2_2</th>\n",
       "      <td>1</td>\n",
       "      <td>1</td>\n",
       "      <td>1</td>\n",
       "    </tr>\n",
       "    <tr>\n",
       "      <th>feature_2_3</th>\n",
       "      <td>0</td>\n",
       "      <td>0</td>\n",
       "      <td>0</td>\n",
       "    </tr>\n",
       "    <tr>\n",
       "      <th>feature_3_0</th>\n",
       "      <td>0</td>\n",
       "      <td>0</td>\n",
       "      <td>0</td>\n",
       "    </tr>\n",
       "    <tr>\n",
       "      <th>feature_3_1</th>\n",
       "      <td>1</td>\n",
       "      <td>1</td>\n",
       "      <td>1</td>\n",
       "    </tr>\n",
       "    <tr>\n",
       "      <th>elapsed_time</th>\n",
       "      <td>245</td>\n",
       "      <td>245</td>\n",
       "      <td>245</td>\n",
       "    </tr>\n",
       "    <tr>\n",
       "      <th>first_active_year</th>\n",
       "      <td>2017</td>\n",
       "      <td>2017</td>\n",
       "      <td>2017</td>\n",
       "    </tr>\n",
       "    <tr>\n",
       "      <th>authorized_flag</th>\n",
       "      <td>1</td>\n",
       "      <td>1</td>\n",
       "      <td>1</td>\n",
       "    </tr>\n",
       "    <tr>\n",
       "      <th>city_id</th>\n",
       "      <td>69</td>\n",
       "      <td>69</td>\n",
       "      <td>69</td>\n",
       "    </tr>\n",
       "    <tr>\n",
       "      <th>category_1</th>\n",
       "      <td>N</td>\n",
       "      <td>N</td>\n",
       "      <td>N</td>\n",
       "    </tr>\n",
       "    <tr>\n",
       "      <th>installments</th>\n",
       "      <td>0</td>\n",
       "      <td>0</td>\n",
       "      <td>0</td>\n",
       "    </tr>\n",
       "    <tr>\n",
       "      <th>category_3</th>\n",
       "      <td>A</td>\n",
       "      <td>A</td>\n",
       "      <td>A</td>\n",
       "    </tr>\n",
       "    <tr>\n",
       "      <th>merchant_category_id</th>\n",
       "      <td>195</td>\n",
       "      <td>278</td>\n",
       "      <td>683</td>\n",
       "    </tr>\n",
       "    <tr>\n",
       "      <th>merchant_id</th>\n",
       "      <td>M_ID_cc72dac895</td>\n",
       "      <td>M_ID_c9c0f1cb3f</td>\n",
       "      <td>M_ID_36f9e41993</td>\n",
       "    </tr>\n",
       "    <tr>\n",
       "      <th>month_lag</th>\n",
       "      <td>-3</td>\n",
       "      <td>-7</td>\n",
       "      <td>-6</td>\n",
       "    </tr>\n",
       "    <tr>\n",
       "      <th>purchase_amount</th>\n",
       "      <td>-0.506033</td>\n",
       "      <td>-0.722114</td>\n",
       "      <td>-0.726171</td>\n",
       "    </tr>\n",
       "    <tr>\n",
       "      <th>purchase_date</th>\n",
       "      <td>2017-11-25 16:37:11</td>\n",
       "      <td>2017-07-16 12:21:00</td>\n",
       "      <td>2017-08-10 21:01:16</td>\n",
       "    </tr>\n",
       "    <tr>\n",
       "      <th>category_2</th>\n",
       "      <td>1</td>\n",
       "      <td>1</td>\n",
       "      <td>1</td>\n",
       "    </tr>\n",
       "    <tr>\n",
       "      <th>state_id</th>\n",
       "      <td>9</td>\n",
       "      <td>9</td>\n",
       "      <td>9</td>\n",
       "    </tr>\n",
       "    <tr>\n",
       "      <th>subsector_id</th>\n",
       "      <td>34</td>\n",
       "      <td>37</td>\n",
       "      <td>34</td>\n",
       "    </tr>\n",
       "    <tr>\n",
       "      <th>purchase_date_year</th>\n",
       "      <td>2017</td>\n",
       "      <td>2017</td>\n",
       "      <td>2017</td>\n",
       "    </tr>\n",
       "    <tr>\n",
       "      <th>purchase_date_month</th>\n",
       "      <td>11</td>\n",
       "      <td>7</td>\n",
       "      <td>8</td>\n",
       "    </tr>\n",
       "    <tr>\n",
       "      <th>purchase_date_day</th>\n",
       "      <td>25</td>\n",
       "      <td>16</td>\n",
       "      <td>10</td>\n",
       "    </tr>\n",
       "    <tr>\n",
       "      <th>purchase_date_hour</th>\n",
       "      <td>16</td>\n",
       "      <td>12</td>\n",
       "      <td>21</td>\n",
       "    </tr>\n",
       "  </tbody>\n",
       "</table>\n",
       "</div>"
      ],
      "text/plain": [
       "                                        0                    1  \\\n",
       "first_active_month                      6                    6   \n",
       "card_id                   C_ID_92a2005557      C_ID_92a2005557   \n",
       "target                          -0.820283            -0.820283   \n",
       "feature_1_mean_enc              -0.501972            -0.501972   \n",
       "feature_2_mean_enc              -0.342233            -0.342233   \n",
       "feature_3_mean_enc              -0.429176            -0.429176   \n",
       "feature_1_1                             0                    0   \n",
       "feature_1_2                             0                    0   \n",
       "feature_1_3                             0                    0   \n",
       "feature_1_4                             0                    0   \n",
       "feature_1_5                             1                    1   \n",
       "feature_2_1                             0                    0   \n",
       "feature_2_2                             1                    1   \n",
       "feature_2_3                             0                    0   \n",
       "feature_3_0                             0                    0   \n",
       "feature_3_1                             1                    1   \n",
       "elapsed_time                          245                  245   \n",
       "first_active_year                    2017                 2017   \n",
       "authorized_flag                         1                    1   \n",
       "city_id                                69                   69   \n",
       "category_1                              N                    N   \n",
       "installments                            0                    0   \n",
       "category_3                              A                    A   \n",
       "merchant_category_id                  195                  278   \n",
       "merchant_id               M_ID_cc72dac895      M_ID_c9c0f1cb3f   \n",
       "month_lag                              -3                   -7   \n",
       "purchase_amount                 -0.506033            -0.722114   \n",
       "purchase_date         2017-11-25 16:37:11  2017-07-16 12:21:00   \n",
       "category_2                              1                    1   \n",
       "state_id                                9                    9   \n",
       "subsector_id                           34                   37   \n",
       "purchase_date_year                   2017                 2017   \n",
       "purchase_date_month                    11                    7   \n",
       "purchase_date_day                      25                   16   \n",
       "purchase_date_hour                     16                   12   \n",
       "\n",
       "                                        2  \n",
       "first_active_month                      6  \n",
       "card_id                   C_ID_92a2005557  \n",
       "target                          -0.820283  \n",
       "feature_1_mean_enc              -0.501972  \n",
       "feature_2_mean_enc              -0.342233  \n",
       "feature_3_mean_enc              -0.429176  \n",
       "feature_1_1                             0  \n",
       "feature_1_2                             0  \n",
       "feature_1_3                             0  \n",
       "feature_1_4                             0  \n",
       "feature_1_5                             1  \n",
       "feature_2_1                             0  \n",
       "feature_2_2                             1  \n",
       "feature_2_3                             0  \n",
       "feature_3_0                             0  \n",
       "feature_3_1                             1  \n",
       "elapsed_time                          245  \n",
       "first_active_year                    2017  \n",
       "authorized_flag                         1  \n",
       "city_id                                69  \n",
       "category_1                              N  \n",
       "installments                            0  \n",
       "category_3                              A  \n",
       "merchant_category_id                  683  \n",
       "merchant_id               M_ID_36f9e41993  \n",
       "month_lag                              -6  \n",
       "purchase_amount                 -0.726171  \n",
       "purchase_date         2017-08-10 21:01:16  \n",
       "category_2                              1  \n",
       "state_id                                9  \n",
       "subsector_id                           34  \n",
       "purchase_date_year                   2017  \n",
       "purchase_date_month                     8  \n",
       "purchase_date_day                      10  \n",
       "purchase_date_hour                     21  "
      ]
     },
     "execution_count": 31,
     "metadata": {},
     "output_type": "execute_result"
    }
   ],
   "source": [
    "train_v3.head(3).transpose()"
   ]
  },
  {
   "cell_type": "code",
   "execution_count": null,
   "metadata": {},
   "outputs": [],
   "source": [
    "reg_target_encoding(train_v3, 'authorized_flag', 'target', 'mean')\n",
    "\n",
    "reg_target_encoding(train_v3, 'category_1', 'target', 'mean')\n",
    "reg_target_encoding(train_v3, 'category_2', 'target', 'mean')\n",
    "reg_target_encoding(train_v3, 'category_3', 'target', 'mean')\n",
    "\n",
    "reg_target_encoding(train_v3, 'first_active_year', 'target', 'mean')\n",
    "reg_target_encoding(train_v3, 'first_active_month', 'target', 'mean')\n",
    "reg_target_encoding(train_v3, 'city_id', 'target', 'mean')\n",
    "\n",
    "reg_target_encoding(train_v3, 'merchant_category_id', 'target', 'mean')\n",
    "reg_target_encoding(train_v3, 'merchant_id', 'target', 'mean')\n",
    "\n",
    "reg_target_encoding(train_v3, 'state_id', 'target', 'mean')\n",
    "reg_target_encoding(train_v3, 'subsector_id', 'target', 'mean')"
   ]
  },
  {
   "cell_type": "code",
   "execution_count": null,
   "metadata": {},
   "outputs": [],
   "source": [
    "print('hello this is done!!! you should save this csv!!!')\n",
    "print()\n",
    "print('no really save this csv')"
   ]
  }
 ],
 "metadata": {
  "kernelspec": {
   "display_name": "Python 3",
   "language": "python",
   "name": "python3"
  },
  "language_info": {
   "codemirror_mode": {
    "name": "ipython",
    "version": 3
   },
   "file_extension": ".py",
   "mimetype": "text/x-python",
   "name": "python",
   "nbconvert_exporter": "python",
   "pygments_lexer": "ipython3",
   "version": "3.6.5"
  }
 },
 "nbformat": 4,
 "nbformat_minor": 2
}
