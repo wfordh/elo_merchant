{
 "cells": [
  {
   "cell_type": "code",
   "execution_count": 1,
   "metadata": {},
   "outputs": [],
   "source": [
    "import matplotlib.pyplot as plt\n",
    "import numpy as np\n",
    "import pandas as pd\n",
    "import seaborn as sns\n",
    "\n",
    "from pathlib import Path\n",
    "\n",
    "%matplotlib inline"
   ]
  },
  {
   "cell_type": "code",
   "execution_count": 2,
   "metadata": {},
   "outputs": [],
   "source": [
    "from elo_helpers import *"
   ]
  },
  {
   "cell_type": "code",
   "execution_count": 3,
   "metadata": {},
   "outputs": [],
   "source": [
    "train = pd.read_feather('./data/train_v4.feather')\n",
    "test = pd.read_feather('./data/test_v4.feather')"
   ]
  },
  {
   "cell_type": "code",
   "execution_count": 7,
   "metadata": {},
   "outputs": [
    {
     "data": {
      "text/html": [
       "<div>\n",
       "<style scoped>\n",
       "    .dataframe tbody tr th:only-of-type {\n",
       "        vertical-align: middle;\n",
       "    }\n",
       "\n",
       "    .dataframe tbody tr th {\n",
       "        vertical-align: top;\n",
       "    }\n",
       "\n",
       "    .dataframe thead th {\n",
       "        text-align: right;\n",
       "    }\n",
       "</style>\n",
       "<table border=\"1\" class=\"dataframe\">\n",
       "  <thead>\n",
       "    <tr style=\"text-align: right;\">\n",
       "      <th></th>\n",
       "      <th>first_active_month</th>\n",
       "      <th>card_id</th>\n",
       "      <th>target</th>\n",
       "      <th>feature_1_mean_enc</th>\n",
       "      <th>feature_2_mean_enc</th>\n",
       "      <th>feature_3_mean_enc</th>\n",
       "      <th>feature_1_1</th>\n",
       "      <th>feature_1_2</th>\n",
       "      <th>feature_1_3</th>\n",
       "      <th>feature_1_4</th>\n",
       "      <th>...</th>\n",
       "      <th>new_purchase_amount_max</th>\n",
       "      <th>new_purchase_amount_min</th>\n",
       "      <th>new_purchase_amount_std</th>\n",
       "      <th>new_installments_sum</th>\n",
       "      <th>new_installments_median</th>\n",
       "      <th>new_installments_max</th>\n",
       "      <th>new_installments_min</th>\n",
       "      <th>new_installments_std</th>\n",
       "      <th>new_month_lag_min</th>\n",
       "      <th>new_month_lag_max</th>\n",
       "    </tr>\n",
       "  </thead>\n",
       "  <tbody>\n",
       "    <tr>\n",
       "      <th>0</th>\n",
       "      <td>6</td>\n",
       "      <td>C_ID_92a2005557</td>\n",
       "      <td>-0.820283</td>\n",
       "      <td>-0.501972</td>\n",
       "      <td>-0.342233</td>\n",
       "      <td>-0.429176</td>\n",
       "      <td>0</td>\n",
       "      <td>0</td>\n",
       "      <td>0</td>\n",
       "      <td>0</td>\n",
       "      <td>...</td>\n",
       "      <td>-0.296112</td>\n",
       "      <td>-0.724368</td>\n",
       "      <td>0.135812</td>\n",
       "      <td>0.0</td>\n",
       "      <td>0.0</td>\n",
       "      <td>0.0</td>\n",
       "      <td>0.0</td>\n",
       "      <td>0.000000</td>\n",
       "      <td>1.0</td>\n",
       "      <td>2.0</td>\n",
       "    </tr>\n",
       "    <tr>\n",
       "      <th>1</th>\n",
       "      <td>1</td>\n",
       "      <td>C_ID_3d0044924f</td>\n",
       "      <td>0.392913</td>\n",
       "      <td>-0.377079</td>\n",
       "      <td>-0.389225</td>\n",
       "      <td>-0.349962</td>\n",
       "      <td>0</td>\n",
       "      <td>0</td>\n",
       "      <td>0</td>\n",
       "      <td>1</td>\n",
       "      <td>...</td>\n",
       "      <td>-0.701858</td>\n",
       "      <td>-0.739410</td>\n",
       "      <td>0.014326</td>\n",
       "      <td>6.0</td>\n",
       "      <td>1.0</td>\n",
       "      <td>1.0</td>\n",
       "      <td>1.0</td>\n",
       "      <td>0.000000</td>\n",
       "      <td>1.0</td>\n",
       "      <td>2.0</td>\n",
       "    </tr>\n",
       "    <tr>\n",
       "      <th>2</th>\n",
       "      <td>8</td>\n",
       "      <td>C_ID_d639edf6cd</td>\n",
       "      <td>0.688056</td>\n",
       "      <td>-0.349808</td>\n",
       "      <td>-0.342233</td>\n",
       "      <td>-0.349962</td>\n",
       "      <td>0</td>\n",
       "      <td>1</td>\n",
       "      <td>0</td>\n",
       "      <td>0</td>\n",
       "      <td>...</td>\n",
       "      <td>-0.700326</td>\n",
       "      <td>-0.700326</td>\n",
       "      <td>NaN</td>\n",
       "      <td>0.0</td>\n",
       "      <td>0.0</td>\n",
       "      <td>0.0</td>\n",
       "      <td>0.0</td>\n",
       "      <td>NaN</td>\n",
       "      <td>2.0</td>\n",
       "      <td>2.0</td>\n",
       "    </tr>\n",
       "    <tr>\n",
       "      <th>3</th>\n",
       "      <td>9</td>\n",
       "      <td>C_ID_186d6a6901</td>\n",
       "      <td>0.142495</td>\n",
       "      <td>-0.377079</td>\n",
       "      <td>-0.512248</td>\n",
       "      <td>-0.349962</td>\n",
       "      <td>0</td>\n",
       "      <td>0</td>\n",
       "      <td>0</td>\n",
       "      <td>1</td>\n",
       "      <td>...</td>\n",
       "      <td>-0.566740</td>\n",
       "      <td>-0.734135</td>\n",
       "      <td>0.065882</td>\n",
       "      <td>5.0</td>\n",
       "      <td>1.0</td>\n",
       "      <td>1.0</td>\n",
       "      <td>-1.0</td>\n",
       "      <td>0.755929</td>\n",
       "      <td>1.0</td>\n",
       "      <td>2.0</td>\n",
       "    </tr>\n",
       "    <tr>\n",
       "      <th>4</th>\n",
       "      <td>11</td>\n",
       "      <td>C_ID_cdbd2c0db2</td>\n",
       "      <td>-0.159749</td>\n",
       "      <td>-0.305659</td>\n",
       "      <td>-0.512248</td>\n",
       "      <td>-0.349962</td>\n",
       "      <td>1</td>\n",
       "      <td>0</td>\n",
       "      <td>0</td>\n",
       "      <td>0</td>\n",
       "      <td>...</td>\n",
       "      <td>0.450886</td>\n",
       "      <td>-0.739395</td>\n",
       "      <td>0.223821</td>\n",
       "      <td>35.0</td>\n",
       "      <td>1.0</td>\n",
       "      <td>2.0</td>\n",
       "      <td>-1.0</td>\n",
       "      <td>0.376913</td>\n",
       "      <td>1.0</td>\n",
       "      <td>2.0</td>\n",
       "    </tr>\n",
       "  </tbody>\n",
       "</table>\n",
       "<p>5 rows × 53 columns</p>\n",
       "</div>"
      ],
      "text/plain": [
       "   first_active_month          card_id    target  feature_1_mean_enc  \\\n",
       "0                   6  C_ID_92a2005557 -0.820283           -0.501972   \n",
       "1                   1  C_ID_3d0044924f  0.392913           -0.377079   \n",
       "2                   8  C_ID_d639edf6cd  0.688056           -0.349808   \n",
       "3                   9  C_ID_186d6a6901  0.142495           -0.377079   \n",
       "4                  11  C_ID_cdbd2c0db2 -0.159749           -0.305659   \n",
       "\n",
       "   feature_2_mean_enc  feature_3_mean_enc  feature_1_1  feature_1_2  \\\n",
       "0           -0.342233           -0.429176            0            0   \n",
       "1           -0.389225           -0.349962            0            0   \n",
       "2           -0.342233           -0.349962            0            1   \n",
       "3           -0.512248           -0.349962            0            0   \n",
       "4           -0.512248           -0.349962            1            0   \n",
       "\n",
       "   feature_1_3  feature_1_4        ...          new_purchase_amount_max  \\\n",
       "0            0            0        ...                        -0.296112   \n",
       "1            0            1        ...                        -0.701858   \n",
       "2            0            0        ...                        -0.700326   \n",
       "3            0            1        ...                        -0.566740   \n",
       "4            0            0        ...                         0.450886   \n",
       "\n",
       "   new_purchase_amount_min  new_purchase_amount_std  new_installments_sum  \\\n",
       "0                -0.724368                 0.135812                   0.0   \n",
       "1                -0.739410                 0.014326                   6.0   \n",
       "2                -0.700326                      NaN                   0.0   \n",
       "3                -0.734135                 0.065882                   5.0   \n",
       "4                -0.739395                 0.223821                  35.0   \n",
       "\n",
       "   new_installments_median  new_installments_max  new_installments_min  \\\n",
       "0                      0.0                   0.0                   0.0   \n",
       "1                      1.0                   1.0                   1.0   \n",
       "2                      0.0                   0.0                   0.0   \n",
       "3                      1.0                   1.0                  -1.0   \n",
       "4                      1.0                   2.0                  -1.0   \n",
       "\n",
       "   new_installments_std  new_month_lag_min  new_month_lag_max  \n",
       "0              0.000000                1.0                2.0  \n",
       "1              0.000000                1.0                2.0  \n",
       "2                   NaN                2.0                2.0  \n",
       "3              0.755929                1.0                2.0  \n",
       "4              0.376913                1.0                2.0  \n",
       "\n",
       "[5 rows x 53 columns]"
      ]
     },
     "execution_count": 7,
     "metadata": {},
     "output_type": "execute_result"
    }
   ],
   "source": [
    "train.head()"
   ]
  },
  {
   "cell_type": "code",
   "execution_count": 4,
   "metadata": {},
   "outputs": [],
   "source": [
    "import xgboost as xgb\n",
    "import lightgbm as lgb"
   ]
  },
  {
   "cell_type": "code",
   "execution_count": 5,
   "metadata": {},
   "outputs": [],
   "source": [
    "from sklearn.model_selection import KFold, GridSearchCV, RandomizedSearchCV, train_test_split"
   ]
  },
  {
   "cell_type": "markdown",
   "metadata": {},
   "source": [
    "Overall strategy here will be to run the training set through a randomized search combined with KFolds for both XGBoost and LightGBM. Then, once I have the suggested parameters from the randomized search, repeat the process (maybe with KFold and maybe without) on a grid search of parameters that are close to those found by the randomized search. \n",
    "\n",
    "After the parameters are chosen, then I will submit predictions using each algorithm independently before trying mixes of the two algorithms' predictions (is this similar to regressing the two algo's preds onto the target?). "
   ]
  },
  {
   "cell_type": "markdown",
   "metadata": {},
   "source": [
    "## XGBoost"
   ]
  },
  {
   "cell_type": "code",
   "execution_count": 18,
   "metadata": {},
   "outputs": [],
   "source": [
    "xgb_params = {\n",
    "    'learning_rate': [0.03, 0.01, 0.005, 0.001],\n",
    "    'max_depth': [5, 7, 10],\n",
    "    'subsample': [0.6, 0.8, 0.95],\n",
    "    'colsample_bytree': [0.6, 0.8, 0.9, 1],\n",
    "    'colsample_bylevel': [0.75, 1],\n",
    "    'n_estimators': [100, 175, 250],\n",
    "    'min_child_weight': [2, 3, 6]\n",
    "#     'objective': 'reg:linear', \n",
    "#     'eval_metric': 'rmse', \n",
    "#     'silent': True\n",
    "}"
   ]
  },
  {
   "cell_type": "code",
   "execution_count": 19,
   "metadata": {},
   "outputs": [],
   "source": [
    "X = train.drop(['card_id', 'target'], axis=1)\n",
    "y = train.target\n",
    "\n",
    "xgb_reg = xgb.XGBRegressor(n_jobs=-1, silent=True)\n",
    "\n",
    "xgb_random = RandomizedSearchCV(xgb_reg,\n",
    "                               param_distributions=xgb_params,\n",
    "                               scoring= 'neg_mean_squared_error', #calc_rmse,\n",
    "                               cv=5, n_jobs=-1)"
   ]
  },
  {
   "cell_type": "code",
   "execution_count": 20,
   "metadata": {},
   "outputs": [
    {
     "data": {
      "text/plain": [
       "RandomizedSearchCV(cv=5, error_score='raise',\n",
       "          estimator=XGBRegressor(base_score=0.5, booster='gbtree', colsample_bylevel=1,\n",
       "       colsample_bytree=1, gamma=0, learning_rate=0.1, max_delta_step=0,\n",
       "       max_depth=3, min_child_weight=1, missing=None, n_estimators=100,\n",
       "       n_jobs=-1, nthread=None, objective='reg:linear', random_state=0,\n",
       "       reg_alpha=0, reg_lambda=1, scale_pos_weight=1, seed=None,\n",
       "       silent=True, subsample=1),\n",
       "          fit_params=None, iid=True, n_iter=10, n_jobs=-1,\n",
       "          param_distributions={'learning_rate': [0.03, 0.01, 0.005, 0.001], 'max_depth': [5, 7, 10], 'subsample': [0.6, 0.8, 0.95], 'colsample_bytree': [0.6, 0.8, 0.9, 1], 'colsample_bylevel': [0.75, 1], 'n_estimators': [100, 175, 250], 'min_child_weight': [2, 3, 6]},\n",
       "          pre_dispatch='2*n_jobs', random_state=None, refit=True,\n",
       "          return_train_score='warn', scoring='neg_mean_squared_error',\n",
       "          verbose=0)"
      ]
     },
     "execution_count": 20,
     "metadata": {},
     "output_type": "execute_result"
    }
   ],
   "source": [
    "xgb_random.fit(X, y)"
   ]
  },
  {
   "cell_type": "code",
   "execution_count": 24,
   "metadata": {},
   "outputs": [
    {
     "data": {
      "text/plain": [
       "{'subsample': 0.8,\n",
       " 'n_estimators': 175,\n",
       " 'min_child_weight': 6,\n",
       " 'max_depth': 5,\n",
       " 'learning_rate': 0.03,\n",
       " 'colsample_bytree': 0.8,\n",
       " 'colsample_bylevel': 1}"
      ]
     },
     "execution_count": 24,
     "metadata": {},
     "output_type": "execute_result"
    }
   ],
   "source": [
    "xgb_random.best_params_"
   ]
  },
  {
   "cell_type": "code",
   "execution_count": null,
   "metadata": {},
   "outputs": [],
   "source": []
  }
 ],
 "metadata": {
  "kernelspec": {
   "display_name": "Python 3",
   "language": "python",
   "name": "python3"
  },
  "language_info": {
   "codemirror_mode": {
    "name": "ipython",
    "version": 3
   },
   "file_extension": ".py",
   "mimetype": "text/x-python",
   "name": "python",
   "nbconvert_exporter": "python",
   "pygments_lexer": "ipython3",
   "version": "3.6.5"
  }
 },
 "nbformat": 4,
 "nbformat_minor": 2
}
