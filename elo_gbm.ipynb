{
 "cells": [
  {
   "cell_type": "code",
   "execution_count": 1,
   "metadata": {},
   "outputs": [],
   "source": [
    "import matplotlib.pyplot as plt\n",
    "import numpy as np\n",
    "import pandas as pd\n",
    "import seaborn as sns\n",
    "import time\n",
    "\n",
    "from pathlib import Path\n",
    "\n",
    "%matplotlib inline"
   ]
  },
  {
   "cell_type": "code",
   "execution_count": 2,
   "metadata": {},
   "outputs": [],
   "source": [
    "from elo_helpers import *"
   ]
  },
  {
   "cell_type": "code",
   "execution_count": 93,
   "metadata": {},
   "outputs": [],
   "source": [
    "train = pd.read_feather('./data/train_v4.feather')\n",
    "test = pd.read_feather('./data/test_v4.feather')"
   ]
  },
  {
   "cell_type": "code",
   "execution_count": 7,
   "metadata": {},
   "outputs": [
    {
     "data": {
      "text/html": [
       "<div>\n",
       "<style scoped>\n",
       "    .dataframe tbody tr th:only-of-type {\n",
       "        vertical-align: middle;\n",
       "    }\n",
       "\n",
       "    .dataframe tbody tr th {\n",
       "        vertical-align: top;\n",
       "    }\n",
       "\n",
       "    .dataframe thead th {\n",
       "        text-align: right;\n",
       "    }\n",
       "</style>\n",
       "<table border=\"1\" class=\"dataframe\">\n",
       "  <thead>\n",
       "    <tr style=\"text-align: right;\">\n",
       "      <th></th>\n",
       "      <th>first_active_month</th>\n",
       "      <th>card_id</th>\n",
       "      <th>target</th>\n",
       "      <th>feature_1_mean_enc</th>\n",
       "      <th>feature_2_mean_enc</th>\n",
       "      <th>feature_3_mean_enc</th>\n",
       "      <th>feature_1_1</th>\n",
       "      <th>feature_1_2</th>\n",
       "      <th>feature_1_3</th>\n",
       "      <th>feature_1_4</th>\n",
       "      <th>...</th>\n",
       "      <th>new_purchase_amount_max</th>\n",
       "      <th>new_purchase_amount_min</th>\n",
       "      <th>new_purchase_amount_std</th>\n",
       "      <th>new_installments_sum</th>\n",
       "      <th>new_installments_median</th>\n",
       "      <th>new_installments_max</th>\n",
       "      <th>new_installments_min</th>\n",
       "      <th>new_installments_std</th>\n",
       "      <th>new_month_lag_min</th>\n",
       "      <th>new_month_lag_max</th>\n",
       "    </tr>\n",
       "  </thead>\n",
       "  <tbody>\n",
       "    <tr>\n",
       "      <th>0</th>\n",
       "      <td>6</td>\n",
       "      <td>C_ID_92a2005557</td>\n",
       "      <td>-0.820283</td>\n",
       "      <td>-0.501972</td>\n",
       "      <td>-0.342233</td>\n",
       "      <td>-0.429176</td>\n",
       "      <td>0</td>\n",
       "      <td>0</td>\n",
       "      <td>0</td>\n",
       "      <td>0</td>\n",
       "      <td>...</td>\n",
       "      <td>-0.296112</td>\n",
       "      <td>-0.724368</td>\n",
       "      <td>0.135812</td>\n",
       "      <td>0.0</td>\n",
       "      <td>0.0</td>\n",
       "      <td>0.0</td>\n",
       "      <td>0.0</td>\n",
       "      <td>0.000000</td>\n",
       "      <td>1.0</td>\n",
       "      <td>2.0</td>\n",
       "    </tr>\n",
       "    <tr>\n",
       "      <th>1</th>\n",
       "      <td>1</td>\n",
       "      <td>C_ID_3d0044924f</td>\n",
       "      <td>0.392913</td>\n",
       "      <td>-0.377079</td>\n",
       "      <td>-0.389225</td>\n",
       "      <td>-0.349962</td>\n",
       "      <td>0</td>\n",
       "      <td>0</td>\n",
       "      <td>0</td>\n",
       "      <td>1</td>\n",
       "      <td>...</td>\n",
       "      <td>-0.701858</td>\n",
       "      <td>-0.739410</td>\n",
       "      <td>0.014326</td>\n",
       "      <td>6.0</td>\n",
       "      <td>1.0</td>\n",
       "      <td>1.0</td>\n",
       "      <td>1.0</td>\n",
       "      <td>0.000000</td>\n",
       "      <td>1.0</td>\n",
       "      <td>2.0</td>\n",
       "    </tr>\n",
       "    <tr>\n",
       "      <th>2</th>\n",
       "      <td>8</td>\n",
       "      <td>C_ID_d639edf6cd</td>\n",
       "      <td>0.688056</td>\n",
       "      <td>-0.349808</td>\n",
       "      <td>-0.342233</td>\n",
       "      <td>-0.349962</td>\n",
       "      <td>0</td>\n",
       "      <td>1</td>\n",
       "      <td>0</td>\n",
       "      <td>0</td>\n",
       "      <td>...</td>\n",
       "      <td>-0.700326</td>\n",
       "      <td>-0.700326</td>\n",
       "      <td>NaN</td>\n",
       "      <td>0.0</td>\n",
       "      <td>0.0</td>\n",
       "      <td>0.0</td>\n",
       "      <td>0.0</td>\n",
       "      <td>NaN</td>\n",
       "      <td>2.0</td>\n",
       "      <td>2.0</td>\n",
       "    </tr>\n",
       "    <tr>\n",
       "      <th>3</th>\n",
       "      <td>9</td>\n",
       "      <td>C_ID_186d6a6901</td>\n",
       "      <td>0.142495</td>\n",
       "      <td>-0.377079</td>\n",
       "      <td>-0.512248</td>\n",
       "      <td>-0.349962</td>\n",
       "      <td>0</td>\n",
       "      <td>0</td>\n",
       "      <td>0</td>\n",
       "      <td>1</td>\n",
       "      <td>...</td>\n",
       "      <td>-0.566740</td>\n",
       "      <td>-0.734135</td>\n",
       "      <td>0.065882</td>\n",
       "      <td>5.0</td>\n",
       "      <td>1.0</td>\n",
       "      <td>1.0</td>\n",
       "      <td>-1.0</td>\n",
       "      <td>0.755929</td>\n",
       "      <td>1.0</td>\n",
       "      <td>2.0</td>\n",
       "    </tr>\n",
       "    <tr>\n",
       "      <th>4</th>\n",
       "      <td>11</td>\n",
       "      <td>C_ID_cdbd2c0db2</td>\n",
       "      <td>-0.159749</td>\n",
       "      <td>-0.305659</td>\n",
       "      <td>-0.512248</td>\n",
       "      <td>-0.349962</td>\n",
       "      <td>1</td>\n",
       "      <td>0</td>\n",
       "      <td>0</td>\n",
       "      <td>0</td>\n",
       "      <td>...</td>\n",
       "      <td>0.450886</td>\n",
       "      <td>-0.739395</td>\n",
       "      <td>0.223821</td>\n",
       "      <td>35.0</td>\n",
       "      <td>1.0</td>\n",
       "      <td>2.0</td>\n",
       "      <td>-1.0</td>\n",
       "      <td>0.376913</td>\n",
       "      <td>1.0</td>\n",
       "      <td>2.0</td>\n",
       "    </tr>\n",
       "  </tbody>\n",
       "</table>\n",
       "<p>5 rows × 53 columns</p>\n",
       "</div>"
      ],
      "text/plain": [
       "   first_active_month          card_id    target  feature_1_mean_enc  \\\n",
       "0                   6  C_ID_92a2005557 -0.820283           -0.501972   \n",
       "1                   1  C_ID_3d0044924f  0.392913           -0.377079   \n",
       "2                   8  C_ID_d639edf6cd  0.688056           -0.349808   \n",
       "3                   9  C_ID_186d6a6901  0.142495           -0.377079   \n",
       "4                  11  C_ID_cdbd2c0db2 -0.159749           -0.305659   \n",
       "\n",
       "   feature_2_mean_enc  feature_3_mean_enc  feature_1_1  feature_1_2  \\\n",
       "0           -0.342233           -0.429176            0            0   \n",
       "1           -0.389225           -0.349962            0            0   \n",
       "2           -0.342233           -0.349962            0            1   \n",
       "3           -0.512248           -0.349962            0            0   \n",
       "4           -0.512248           -0.349962            1            0   \n",
       "\n",
       "   feature_1_3  feature_1_4        ...          new_purchase_amount_max  \\\n",
       "0            0            0        ...                        -0.296112   \n",
       "1            0            1        ...                        -0.701858   \n",
       "2            0            0        ...                        -0.700326   \n",
       "3            0            1        ...                        -0.566740   \n",
       "4            0            0        ...                         0.450886   \n",
       "\n",
       "   new_purchase_amount_min  new_purchase_amount_std  new_installments_sum  \\\n",
       "0                -0.724368                 0.135812                   0.0   \n",
       "1                -0.739410                 0.014326                   6.0   \n",
       "2                -0.700326                      NaN                   0.0   \n",
       "3                -0.734135                 0.065882                   5.0   \n",
       "4                -0.739395                 0.223821                  35.0   \n",
       "\n",
       "   new_installments_median  new_installments_max  new_installments_min  \\\n",
       "0                      0.0                   0.0                   0.0   \n",
       "1                      1.0                   1.0                   1.0   \n",
       "2                      0.0                   0.0                   0.0   \n",
       "3                      1.0                   1.0                  -1.0   \n",
       "4                      1.0                   2.0                  -1.0   \n",
       "\n",
       "   new_installments_std  new_month_lag_min  new_month_lag_max  \n",
       "0              0.000000                1.0                2.0  \n",
       "1              0.000000                1.0                2.0  \n",
       "2                   NaN                2.0                2.0  \n",
       "3              0.755929                1.0                2.0  \n",
       "4              0.376913                1.0                2.0  \n",
       "\n",
       "[5 rows x 53 columns]"
      ]
     },
     "execution_count": 7,
     "metadata": {},
     "output_type": "execute_result"
    }
   ],
   "source": [
    "train.head()"
   ]
  },
  {
   "cell_type": "code",
   "execution_count": 4,
   "metadata": {},
   "outputs": [],
   "source": [
    "import xgboost as xgb\n",
    "import lightgbm as lgb"
   ]
  },
  {
   "cell_type": "code",
   "execution_count": 5,
   "metadata": {},
   "outputs": [],
   "source": [
    "from sklearn.model_selection import KFold, GridSearchCV, RandomizedSearchCV, train_test_split"
   ]
  },
  {
   "cell_type": "code",
   "execution_count": 94,
   "metadata": {},
   "outputs": [],
   "source": [
    "X = train.drop(['card_id', 'target'], axis=1)\n",
    "y = train.target\n",
    "\n",
    "X_tr, X_val, y_tr, y_val = train_test_split(X, y, test_size=0.35, random_state=11)"
   ]
  },
  {
   "cell_type": "markdown",
   "metadata": {},
   "source": [
    "Overall strategy here will be to run the training set through a randomized search combined with KFolds for both XGBoost and LightGBM. Then, once I have the suggested parameters from the randomized search, repeat the process (maybe with KFold and maybe without) on a grid search of parameters that are close to those found by the randomized search. \n",
    "\n",
    "After the parameters are chosen, then I will submit predictions using each algorithm independently before trying mixes of the two algorithms' predictions (is this similar to regressing the two algo's preds onto the target?). \n",
    "\n",
    "- *Still need to look into outliers. Create clusters?*\n",
    "- *am I still overfitting with too many trees?*"
   ]
  },
  {
   "cell_type": "markdown",
   "metadata": {},
   "source": [
    "## XGBoost"
   ]
  },
  {
   "cell_type": "code",
   "execution_count": 7,
   "metadata": {},
   "outputs": [],
   "source": [
    "xgb_params_rand = {\n",
    "    'learning_rate': [0.03, 0.01, 0.005, 0.001],\n",
    "    'max_depth': [5, 7, 10],\n",
    "    'subsample': [0.6, 0.8, 0.95],\n",
    "    'colsample_bytree': [0.6, 0.8, 0.9, 1],\n",
    "    'colsample_bylevel': [0.75, 1],\n",
    "    'n_estimators': [100, 175, 250],\n",
    "    'min_child_weight': [2, 3, 6]\n",
    "#     'objective': 'reg:linear', \n",
    "#     'eval_metric': 'rmse', \n",
    "#     'silent': True\n",
    "}"
   ]
  },
  {
   "cell_type": "code",
   "execution_count": 85,
   "metadata": {},
   "outputs": [],
   "source": [
    "xgb_reg = xgb.XGBRegressor(n_jobs=-1, silent=True)\n",
    "\n",
    "xgb_random = RandomizedSearchCV(xgb_reg,\n",
    "                               param_distributions=xgb_params_rand,\n",
    "                               scoring= 'neg_mean_squared_error', #calc_rmse,\n",
    "                               cv=5, n_jobs=-1)"
   ]
  },
  {
   "cell_type": "code",
   "execution_count": 20,
   "metadata": {},
   "outputs": [
    {
     "data": {
      "text/plain": [
       "RandomizedSearchCV(cv=5, error_score='raise',\n",
       "          estimator=XGBRegressor(base_score=0.5, booster='gbtree', colsample_bylevel=1,\n",
       "       colsample_bytree=1, gamma=0, learning_rate=0.1, max_delta_step=0,\n",
       "       max_depth=3, min_child_weight=1, missing=None, n_estimators=100,\n",
       "       n_jobs=-1, nthread=None, objective='reg:linear', random_state=0,\n",
       "       reg_alpha=0, reg_lambda=1, scale_pos_weight=1, seed=None,\n",
       "       silent=True, subsample=1),\n",
       "          fit_params=None, iid=True, n_iter=10, n_jobs=-1,\n",
       "          param_distributions={'learning_rate': [0.03, 0.01, 0.005, 0.001], 'max_depth': [5, 7, 10], 'subsample': [0.6, 0.8, 0.95], 'colsample_bytree': [0.6, 0.8, 0.9, 1], 'colsample_bylevel': [0.75, 1], 'n_estimators': [100, 175, 250], 'min_child_weight': [2, 3, 6]},\n",
       "          pre_dispatch='2*n_jobs', random_state=None, refit=True,\n",
       "          return_train_score='warn', scoring='neg_mean_squared_error',\n",
       "          verbose=0)"
      ]
     },
     "execution_count": 20,
     "metadata": {},
     "output_type": "execute_result"
    }
   ],
   "source": [
    "xgb_random.fit(X, y)"
   ]
  },
  {
   "cell_type": "code",
   "execution_count": 24,
   "metadata": {},
   "outputs": [
    {
     "data": {
      "text/plain": [
       "{'subsample': 0.8,\n",
       " 'n_estimators': 175,\n",
       " 'min_child_weight': 6,\n",
       " 'max_depth': 5,\n",
       " 'learning_rate': 0.03,\n",
       " 'colsample_bytree': 0.8,\n",
       " 'colsample_bylevel': 1}"
      ]
     },
     "execution_count": 24,
     "metadata": {},
     "output_type": "execute_result"
    }
   ],
   "source": [
    "xgb_random.best_params_"
   ]
  },
  {
   "cell_type": "code",
   "execution_count": 37,
   "metadata": {},
   "outputs": [
    {
     "data": {
      "text/plain": [
       "-13.88111955179334"
      ]
     },
     "execution_count": 37,
     "metadata": {},
     "output_type": "execute_result"
    }
   ],
   "source": [
    "xgb_random.best_score_"
   ]
  },
  {
   "cell_type": "code",
   "execution_count": 26,
   "metadata": {},
   "outputs": [],
   "source": [
    "xgb_params_grid = {\n",
    "    'subsample': [0.75, 0.8, 0.85],\n",
    "    'n_estimators': [150, 175, 200],\n",
    "    'min_child_weight': [5, 6],\n",
    "    'max_depth': [5, 6],\n",
    "    'learning_rate': [0.03, 0.01],\n",
    "    'colsample_bytree': [0.75, 0.8, 0.85]\n",
    "}"
   ]
  },
  {
   "cell_type": "code",
   "execution_count": 28,
   "metadata": {},
   "outputs": [],
   "source": [
    "xgb_grid = GridSearchCV(xgb_reg,\n",
    "                       param_grid=xgb_params_grid,\n",
    "                       scoring='neg_mean_squared_error',\n",
    "                       cv=5, n_jobs=-1)"
   ]
  },
  {
   "cell_type": "code",
   "execution_count": 34,
   "metadata": {},
   "outputs": [
    {
     "data": {
      "text/plain": [
       "33990.286532878876"
      ]
     },
     "execution_count": 34,
     "metadata": {},
     "output_type": "execute_result"
    }
   ],
   "source": [
    "current = time.time()\n",
    "xgb_grid.fit(X, y)\n",
    "time.time() - current"
   ]
  },
  {
   "cell_type": "code",
   "execution_count": 38,
   "metadata": {},
   "outputs": [
    {
     "data": {
      "text/plain": [
       "{'colsample_bytree': 0.8,\n",
       " 'learning_rate': 0.03,\n",
       " 'max_depth': 6,\n",
       " 'min_child_weight': 6,\n",
       " 'n_estimators': 200,\n",
       " 'subsample': 0.85}"
      ]
     },
     "execution_count": 38,
     "metadata": {},
     "output_type": "execute_result"
    }
   ],
   "source": [
    "xgb_grid.best_params_"
   ]
  },
  {
   "cell_type": "code",
   "execution_count": 36,
   "metadata": {},
   "outputs": [
    {
     "data": {
      "text/plain": [
       "-13.793381969214288"
      ]
     },
     "execution_count": 36,
     "metadata": {},
     "output_type": "execute_result"
    }
   ],
   "source": [
    "xgb_grid.best_score_"
   ]
  },
  {
   "cell_type": "code",
   "execution_count": 10,
   "metadata": {},
   "outputs": [
    {
     "data": {
      "text/plain": [
       "3.713488925525428"
      ]
     },
     "execution_count": 10,
     "metadata": {},
     "output_type": "execute_result"
    }
   ],
   "source": [
    "13.79**0.5"
   ]
  },
  {
   "cell_type": "code",
   "execution_count": 43,
   "metadata": {},
   "outputs": [],
   "source": [
    "xgb_best = xgb_grid.best_estimator_"
   ]
  },
  {
   "cell_type": "code",
   "execution_count": 52,
   "metadata": {},
   "outputs": [],
   "source": [
    "xgb_best.save_model('./models/xgb_best_grid.model')"
   ]
  },
  {
   "cell_type": "code",
   "execution_count": 97,
   "metadata": {},
   "outputs": [],
   "source": [
    "xgb_best = xgb.sklearn.XGBRegressor({'nthread':4})\n",
    "xgb_best.load_model('./models/xgb_best_grid.model')"
   ]
  },
  {
   "cell_type": "code",
   "execution_count": 99,
   "metadata": {},
   "outputs": [],
   "source": [
    "xgb_preds = xgb_best.predict(test.drop('card_id', axis=1))"
   ]
  },
  {
   "cell_type": "code",
   "execution_count": 49,
   "metadata": {},
   "outputs": [
    {
     "data": {
      "text/html": [
       "<div>\n",
       "<style scoped>\n",
       "    .dataframe tbody tr th:only-of-type {\n",
       "        vertical-align: middle;\n",
       "    }\n",
       "\n",
       "    .dataframe tbody tr th {\n",
       "        vertical-align: top;\n",
       "    }\n",
       "\n",
       "    .dataframe thead th {\n",
       "        text-align: right;\n",
       "    }\n",
       "</style>\n",
       "<table border=\"1\" class=\"dataframe\">\n",
       "  <thead>\n",
       "    <tr style=\"text-align: right;\">\n",
       "      <th></th>\n",
       "      <th>card_id</th>\n",
       "      <th>target</th>\n",
       "    </tr>\n",
       "  </thead>\n",
       "  <tbody>\n",
       "    <tr>\n",
       "      <th>0</th>\n",
       "      <td>C_ID_0ab67a22ab</td>\n",
       "      <td>-1.62725</td>\n",
       "    </tr>\n",
       "    <tr>\n",
       "      <th>1</th>\n",
       "      <td>C_ID_130fd0cbdd</td>\n",
       "      <td>-0.0981798</td>\n",
       "    </tr>\n",
       "    <tr>\n",
       "      <th>2</th>\n",
       "      <td>C_ID_b709037bc5</td>\n",
       "      <td>-0.710223</td>\n",
       "    </tr>\n",
       "    <tr>\n",
       "      <th>3</th>\n",
       "      <td>C_ID_d27d835a9f</td>\n",
       "      <td>0.0165643</td>\n",
       "    </tr>\n",
       "    <tr>\n",
       "      <th>4</th>\n",
       "      <td>C_ID_2b5e3df5c2</td>\n",
       "      <td>-1.12372</td>\n",
       "    </tr>\n",
       "  </tbody>\n",
       "</table>\n",
       "</div>"
      ],
      "text/plain": [
       "           card_id     target\n",
       "0  C_ID_0ab67a22ab   -1.62725\n",
       "1  C_ID_130fd0cbdd -0.0981798\n",
       "2  C_ID_b709037bc5  -0.710223\n",
       "3  C_ID_d27d835a9f  0.0165643\n",
       "4  C_ID_2b5e3df5c2   -1.12372"
      ]
     },
     "execution_count": 49,
     "metadata": {},
     "output_type": "execute_result"
    }
   ],
   "source": [
    "xgb_preds_df = pd.DataFrame(np.array([test.card_id, xgb_preds]).T, columns=['card_id', 'target'])\n",
    "xgb_preds_df.head()"
   ]
  },
  {
   "cell_type": "code",
   "execution_count": 50,
   "metadata": {},
   "outputs": [],
   "source": [
    "xgb_preds_df.to_csv('./submissions/sub_5_xgb.csv', index=False)"
   ]
  },
  {
   "cell_type": "markdown",
   "metadata": {},
   "source": [
    "## LightGBM"
   ]
  },
  {
   "cell_type": "code",
   "execution_count": 19,
   "metadata": {},
   "outputs": [],
   "source": [
    "lgb_params_rand = {\n",
    "    'learning_rate': [0.03, 0.01, 0.005, 0.001],\n",
    "    'n_estimators': [100, 175, 250],\n",
    "    'max_depth': [5, 7, 9],\n",
    "    'min_child_samples':[6, 12, 20],\n",
    "    'num_leaves': [31, 64],\n",
    "    'subsample': [0.6, 0.8, 1],\n",
    "    'colsample_bytree': [0.6, 0.8, 1],\n",
    "    'reg_alpha':[0, 0.5, 1],\n",
    "    'reg_lambda':[0, 0.5, 1]\n",
    "}"
   ]
  },
  {
   "cell_type": "code",
   "execution_count": 20,
   "metadata": {},
   "outputs": [],
   "source": [
    "lgb_reg = lgb.LGBMRegressor(n_jobs=-1, silent=True)\n",
    "\n",
    "lgb_rand = RandomizedSearchCV(lgb_reg, param_distributions=lgb_params_rand,\n",
    "                             scoring='neg_mean_squared_error',\n",
    "                             cv=5, n_jobs=-1)"
   ]
  },
  {
   "cell_type": "code",
   "execution_count": 21,
   "metadata": {},
   "outputs": [
    {
     "data": {
      "text/plain": [
       "RandomizedSearchCV(cv=5, error_score='raise',\n",
       "          estimator=LGBMRegressor(boosting_type='gbdt', class_weight=None, colsample_bytree=1.0,\n",
       "       learning_rate=0.1, max_depth=-1, min_child_samples=20,\n",
       "       min_child_weight=0.001, min_split_gain=0.0, n_estimators=100,\n",
       "       n_jobs=-1, num_leaves=31, objective=None, random_state=None,\n",
       "       reg_alpha=0.0, reg_lambda=0.0, silent=True, subsample=1.0,\n",
       "       subsample_for_bin=200000, subsample_freq=0),\n",
       "          fit_params=None, iid=True, n_iter=10, n_jobs=-1,\n",
       "          param_distributions={'learning_rate': [0.03, 0.01, 0.005, 0.001], 'n_estimators': [100, 175, 250], 'max_depth': [5, 7, 9], 'min_child_samples': [6, 12, 20], 'num_leaves': [31, 64], 'subsample': [0.6, 0.8, 1], 'colsample_bytree': [0.6, 0.8, 1], 'reg_alpha': [0, 0.5, 1], 'reg_lambda': [0, 0.5, 1]},\n",
       "          pre_dispatch='2*n_jobs', random_state=None, refit=True,\n",
       "          return_train_score='warn', scoring='neg_mean_squared_error',\n",
       "          verbose=0)"
      ]
     },
     "execution_count": 21,
     "metadata": {},
     "output_type": "execute_result"
    }
   ],
   "source": [
    "lgb_rand.fit(X, y)"
   ]
  },
  {
   "cell_type": "code",
   "execution_count": 22,
   "metadata": {},
   "outputs": [
    {
     "data": {
      "text/plain": [
       "-13.761889376565035"
      ]
     },
     "execution_count": 22,
     "metadata": {},
     "output_type": "execute_result"
    }
   ],
   "source": [
    "lgb_rand.best_score_"
   ]
  },
  {
   "cell_type": "code",
   "execution_count": 23,
   "metadata": {},
   "outputs": [
    {
     "data": {
      "text/plain": [
       "{'subsample': 1,\n",
       " 'reg_lambda': 1,\n",
       " 'reg_alpha': 0.5,\n",
       " 'num_leaves': 64,\n",
       " 'n_estimators': 250,\n",
       " 'min_child_samples': 6,\n",
       " 'max_depth': 7,\n",
       " 'learning_rate': 0.03,\n",
       " 'colsample_bytree': 1}"
      ]
     },
     "execution_count": 23,
     "metadata": {},
     "output_type": "execute_result"
    }
   ],
   "source": [
    "lgb_rand.best_params_"
   ]
  },
  {
   "cell_type": "code",
   "execution_count": 31,
   "metadata": {},
   "outputs": [],
   "source": [
    "lgb_params_grid = {\n",
    "    'n_estimators': [200],\n",
    "    'subsample': [0.75, 0.85],\n",
    "    'reg_lambda': [0.9, 1],\n",
    "    'reg_alpha': [0.5, 0.8],\n",
    "    'num_leaves': [64],\n",
    "    'min_child_samples': [6, 10],\n",
    "    'max_depth': [6, 7, 8],\n",
    "    'learning_rate': [0.03, 0.01],\n",
    "    'colsample_bytree': [0.75, 0.85]\n",
    "}"
   ]
  },
  {
   "cell_type": "code",
   "execution_count": 32,
   "metadata": {},
   "outputs": [],
   "source": [
    "lgb_grid = GridSearchCV(lgb_reg,\n",
    "                       param_grid=lgb_params_grid,\n",
    "                       scoring='neg_mean_squared_error',\n",
    "                       cv=5, n_jobs=-1)"
   ]
  },
  {
   "cell_type": "code",
   "execution_count": 34,
   "metadata": {},
   "outputs": [
    {
     "data": {
      "text/plain": [
       "7619.442352294922"
      ]
     },
     "execution_count": 34,
     "metadata": {},
     "output_type": "execute_result"
    }
   ],
   "source": [
    "current = time.time()\n",
    "lgb_grid.fit(X, y)\n",
    "time.time() - current"
   ]
  },
  {
   "cell_type": "code",
   "execution_count": 35,
   "metadata": {},
   "outputs": [
    {
     "data": {
      "text/plain": [
       "-13.741341283499333"
      ]
     },
     "execution_count": 35,
     "metadata": {},
     "output_type": "execute_result"
    }
   ],
   "source": [
    "lgb_grid.best_score_"
   ]
  },
  {
   "cell_type": "code",
   "execution_count": 36,
   "metadata": {},
   "outputs": [
    {
     "data": {
      "text/plain": [
       "{'colsample_bytree': 0.75,\n",
       " 'learning_rate': 0.03,\n",
       " 'max_depth': 8,\n",
       " 'min_child_samples': 10,\n",
       " 'n_estimators': 200,\n",
       " 'num_leaves': 64,\n",
       " 'reg_alpha': 0.8,\n",
       " 'reg_lambda': 0.9,\n",
       " 'subsample': 0.75}"
      ]
     },
     "execution_count": 36,
     "metadata": {},
     "output_type": "execute_result"
    }
   ],
   "source": [
    "lgb_grid.best_params_"
   ]
  },
  {
   "cell_type": "code",
   "execution_count": 37,
   "metadata": {},
   "outputs": [],
   "source": [
    "lgb_best = lgb_grid.best_estimator_"
   ]
  },
  {
   "cell_type": "code",
   "execution_count": 38,
   "metadata": {},
   "outputs": [],
   "source": [
    "lgb_best.booster_.save_model('./models/lgb_best_grid.model')"
   ]
  },
  {
   "cell_type": "code",
   "execution_count": 39,
   "metadata": {},
   "outputs": [],
   "source": [
    "foo = lgb.Booster(model_file='./models/lgb_best_grid.model')"
   ]
  },
  {
   "cell_type": "code",
   "execution_count": 47,
   "metadata": {},
   "outputs": [],
   "source": [
    "lgb_preds = lgb_best.predict(test.drop('card_id', axis=1))\n",
    "\n",
    "lgb_preds_df = pd.DataFrame(np.array([test.card_id, lgb_preds]).T,\n",
    "                            columns=['card_id', 'target'])"
   ]
  },
  {
   "cell_type": "code",
   "execution_count": 48,
   "metadata": {},
   "outputs": [
    {
     "data": {
      "text/html": [
       "<div>\n",
       "<style scoped>\n",
       "    .dataframe tbody tr th:only-of-type {\n",
       "        vertical-align: middle;\n",
       "    }\n",
       "\n",
       "    .dataframe tbody tr th {\n",
       "        vertical-align: top;\n",
       "    }\n",
       "\n",
       "    .dataframe thead th {\n",
       "        text-align: right;\n",
       "    }\n",
       "</style>\n",
       "<table border=\"1\" class=\"dataframe\">\n",
       "  <thead>\n",
       "    <tr style=\"text-align: right;\">\n",
       "      <th></th>\n",
       "      <th>card_id</th>\n",
       "      <th>target</th>\n",
       "    </tr>\n",
       "  </thead>\n",
       "  <tbody>\n",
       "    <tr>\n",
       "      <th>0</th>\n",
       "      <td>C_ID_0ab67a22ab</td>\n",
       "      <td>-1.50155</td>\n",
       "    </tr>\n",
       "    <tr>\n",
       "      <th>1</th>\n",
       "      <td>C_ID_130fd0cbdd</td>\n",
       "      <td>-0.122454</td>\n",
       "    </tr>\n",
       "    <tr>\n",
       "      <th>2</th>\n",
       "      <td>C_ID_b709037bc5</td>\n",
       "      <td>-0.439529</td>\n",
       "    </tr>\n",
       "    <tr>\n",
       "      <th>3</th>\n",
       "      <td>C_ID_d27d835a9f</td>\n",
       "      <td>-0.0363408</td>\n",
       "    </tr>\n",
       "    <tr>\n",
       "      <th>4</th>\n",
       "      <td>C_ID_2b5e3df5c2</td>\n",
       "      <td>-1.33748</td>\n",
       "    </tr>\n",
       "  </tbody>\n",
       "</table>\n",
       "</div>"
      ],
      "text/plain": [
       "           card_id     target\n",
       "0  C_ID_0ab67a22ab   -1.50155\n",
       "1  C_ID_130fd0cbdd  -0.122454\n",
       "2  C_ID_b709037bc5  -0.439529\n",
       "3  C_ID_d27d835a9f -0.0363408\n",
       "4  C_ID_2b5e3df5c2   -1.33748"
      ]
     },
     "execution_count": 48,
     "metadata": {},
     "output_type": "execute_result"
    }
   ],
   "source": [
    "lgb_preds_df.head()"
   ]
  },
  {
   "cell_type": "code",
   "execution_count": 49,
   "metadata": {},
   "outputs": [],
   "source": [
    "lgb_preds_df.to_csv('./submissions/sub_6_lgb.csv', index=False)"
   ]
  },
  {
   "cell_type": "markdown",
   "metadata": {},
   "source": [
    "## Ensembling/Stacking!"
   ]
  },
  {
   "cell_type": "code",
   "execution_count": 60,
   "metadata": {},
   "outputs": [],
   "source": [
    "xgb_preds_df = pd.read_csv('./submissions/sub_5_xgb.csv')"
   ]
  },
  {
   "cell_type": "code",
   "execution_count": 67,
   "metadata": {},
   "outputs": [],
   "source": [
    "preds_df = lgb_preds_df.merge(xgb_preds_df, on='card_id', suffixes=('_lgb', '_xgb'))"
   ]
  },
  {
   "cell_type": "code",
   "execution_count": 68,
   "metadata": {},
   "outputs": [],
   "source": [
    "mean = 0.5*preds_df.target_lgb + 0.5*preds_df.target_xgb\n",
    "quarter = 0.25*preds_df.target_lgb + 0.75*preds_df.target_xgb\n",
    "three_quarter = 0.75*preds_df.target_lgb + 0.25*preds_df.target_xgb"
   ]
  },
  {
   "cell_type": "code",
   "execution_count": 70,
   "metadata": {},
   "outputs": [],
   "source": [
    "preds_df['mean'] = mean\n",
    "preds_df['quarter'] = quarter\n",
    "preds_df['three_quarter'] = three_quarter"
   ]
  },
  {
   "cell_type": "code",
   "execution_count": 74,
   "metadata": {},
   "outputs": [],
   "source": [
    "preds_df[['card_id', 'mean']].rename(columns={'mean':'target'}).to_csv('./submissions/sub_7_xgblgb_mean.csv', index=False)"
   ]
  },
  {
   "cell_type": "code",
   "execution_count": 75,
   "metadata": {},
   "outputs": [],
   "source": [
    "preds_df[['card_id', 'three_quarter']].rename(columns={'three_quarter':'target'}).to_csv('./submissions/sub_8_xgblgb_34.csv', \n",
    "                                                                                index=False)"
   ]
  },
  {
   "cell_type": "code",
   "execution_count": 76,
   "metadata": {},
   "outputs": [],
   "source": [
    "preds_df[['card_id', 'quarter']].rename(columns={'quarter':'target'}).to_csv('./submissions/sub_9_xgblgb_14.csv', \n",
    "                                                                                index=False)"
   ]
  },
  {
   "cell_type": "code",
   "execution_count": 77,
   "metadata": {},
   "outputs": [],
   "source": [
    "from sklearn.linear_model import LinearRegression"
   ]
  },
  {
   "cell_type": "code",
   "execution_count": 101,
   "metadata": {},
   "outputs": [],
   "source": [
    "xgb_tr_preds = xgb_best.predict(X)\n",
    "lgb_tr_preds = lgb_best.predict(X)"
   ]
  },
  {
   "cell_type": "code",
   "execution_count": 105,
   "metadata": {},
   "outputs": [
    {
     "data": {
      "text/plain": [
       "LinearRegression(copy_X=True, fit_intercept=True, n_jobs=1, normalize=False)"
      ]
     },
     "execution_count": 105,
     "metadata": {},
     "output_type": "execute_result"
    }
   ],
   "source": [
    "lr = LinearRegression()\n",
    "lr.fit(np.array([xgb_tr_preds, lgb_tr_preds]).T, train.target)"
   ]
  },
  {
   "cell_type": "code",
   "execution_count": 106,
   "metadata": {},
   "outputs": [],
   "source": [
    "stack_preds = lr.predict(np.array([xgb_preds, lgb_preds]).T)"
   ]
  },
  {
   "cell_type": "code",
   "execution_count": 116,
   "metadata": {},
   "outputs": [],
   "source": [
    "stack_preds_df = pd.DataFrame(np.array([test.card_id, stack_preds]).T, \n",
    "                             columns=['card_id', 'target'])\n",
    "\n",
    "stack_preds_df.to_csv('./submissions/sub_10_xgblgb_stack.csv', index=False)"
   ]
  },
  {
   "cell_type": "code",
   "execution_count": null,
   "metadata": {},
   "outputs": [],
   "source": []
  }
 ],
 "metadata": {
  "kernelspec": {
   "display_name": "Python 3",
   "language": "python",
   "name": "python3"
  },
  "language_info": {
   "codemirror_mode": {
    "name": "ipython",
    "version": 3
   },
   "file_extension": ".py",
   "mimetype": "text/x-python",
   "name": "python",
   "nbconvert_exporter": "python",
   "pygments_lexer": "ipython3",
   "version": "3.6.5"
  }
 },
 "nbformat": 4,
 "nbformat_minor": 2
}
